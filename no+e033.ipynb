{
  "cells": [
    {
      "cell_type": "markdown",
      "metadata": {
        "id": "view-in-github",
        "colab_type": "text"
      },
      "source": [
        "<a href=\"https://colab.research.google.com/github/gifted-clover95/photo-gallery-for-everyone/blob/main/no%2Be033.ipynb\" target=\"_parent\"><img src=\"https://colab.research.google.com/assets/colab-badge.svg\" alt=\"Open In Colab\"/></a>"
      ]
    },
    {
      "cell_type": "code",
      "execution_count": 1,
      "id": "148df787",
      "metadata": {
        "id": "148df787"
      },
      "outputs": [],
      "source": [
        "import matplotlib.pyplot as plt\n",
        "import numpy as np\n",
        "import cmath"
      ]
    },
    {
      "cell_type": "code",
      "execution_count": 2,
      "id": "c26f10cc",
      "metadata": {
        "id": "c26f10cc"
      },
      "outputs": [],
      "source": [
        "class photo_gallery_for_everyone :\n",
        "    def __init__(self, file_name):\n",
        "        self.file_name = file_name\n",
        "        self.count = 0\n",
        "        self.height = 670\n",
        "        self.width = 1280\n",
        "        self.img = np.ones((self.height, self.width, 3), dtype=np.uint8) * 255\n",
        "        self.origin = (self.height, self.width)\n",
        "        self.scale = 1.0\n",
        "\n",
        "    def set_origin_center(self):\n",
        "        self.origin = (self.height//2, self.width//2)\n",
        "\n",
        "    def show(self):\n",
        "        #plt.imshow(self.img)\n",
        "        #plt.show()\n",
        "        self.count += 1\n",
        "        plt.imsave(self.file_name + str(self.count).zfill(3) + '.png', self.img)"
      ]
    },
    {
      "cell_type": "code",
      "execution_count": 3,
      "id": "e6dc224f",
      "metadata": {
        "scrolled": true,
        "id": "e6dc224f"
      },
      "outputs": [],
      "source": [
        "photo_gallery = photo_gallery_for_everyone('no+e_photo_gallery_033_')"
      ]
    },
    {
      "cell_type": "code",
      "execution_count": 4,
      "id": "8cb9c1a0",
      "metadata": {
        "id": "8cb9c1a0"
      },
      "outputs": [],
      "source": [
        "photo_gallery.set_origin_center()\n",
        "origin = photo_gallery.origin"
      ]
    },
    {
      "cell_type": "code",
      "execution_count": 5,
      "id": "06f6ae40",
      "metadata": {
        "id": "06f6ae40"
      },
      "outputs": [],
      "source": [
        "def mod_2pi(x):\n",
        "    if x == 0:\n",
        "        retv = 0.0\n",
        "    elif x > 0:\n",
        "        retv = x - int(x / (2*np.pi)) *2*np.pi\n",
        "    else:\n",
        "        retv = x - int(x / (2*np.pi) - 1) *2*np.pi\n",
        "    return retv"
      ]
    },
    {
      "cell_type": "code",
      "execution_count": 6,
      "id": "2fc0664c",
      "metadata": {
        "id": "2fc0664c"
      },
      "outputs": [],
      "source": [
        "def get_color(th):\n",
        "    x = th / (2*np.pi) * 3.0\n",
        "    int_x = int (x)\n",
        "    x = int((x - int_x) * 255)\n",
        "    if int_x == 0:\n",
        "        retv = (255, 255-x, x)\n",
        "    elif int_x == 1:\n",
        "        retv = (255-x, x, 255)\n",
        "    else:\n",
        "        retv = (x, 255, 255-x)\n",
        "    return retv"
      ]
    },
    {
      "cell_type": "code",
      "execution_count": 7,
      "id": "6138029a",
      "metadata": {
        "id": "6138029a"
      },
      "outputs": [],
      "source": [
        "def abs_to_brightness(r):\n",
        "    return (r/(r+1))"
      ]
    },
    {
      "cell_type": "code",
      "execution_count": 8,
      "id": "f3e8d412",
      "metadata": {
        "id": "f3e8d412"
      },
      "outputs": [],
      "source": [
        "def pixel_to_complex_number(p, i,j):\n",
        "    return (complex ((j-p.origin[1])/p.scale, (p.origin[0]-i)/p.scale))"
      ]
    },
    {
      "cell_type": "code",
      "execution_count": 9,
      "id": "b1fdfcc7",
      "metadata": {
        "id": "b1fdfcc7"
      },
      "outputs": [],
      "source": [
        "photo_gallery.scale = 50\n",
        "for i in range(photo_gallery.height):\n",
        "    for j in range(photo_gallery.width):\n",
        "        z = pixel_to_complex_number(photo_gallery, i,j)\n",
        "        th = mod_2pi( cmath.phase(z))\n",
        "        r, g, b = get_color(th)\n",
        "        photo_gallery.img[i, j, 0] = int(r)\n",
        "        photo_gallery.img[i, j, 1] = int(g)\n",
        "        photo_gallery.img[i, j, 2] = int(b)\n",
        "\n",
        "photo_gallery.show()"
      ]
    },
    {
      "cell_type": "code",
      "execution_count": 10,
      "id": "5f144fb7",
      "metadata": {
        "id": "5f144fb7"
      },
      "outputs": [],
      "source": [
        "photo_gallery.scale = 50\n",
        "for i in range(photo_gallery.height):\n",
        "    for j in range(photo_gallery.width):\n",
        "        z = pixel_to_complex_number(photo_gallery, i,j)\n",
        "        ratio = abs_to_brightness(abs(z))\n",
        "        th = mod_2pi( cmath.phase(z))\n",
        "        r, g, b = get_color(th)\n",
        "        photo_gallery.img[i, j, 0] = int(ratio*r)\n",
        "        photo_gallery.img[i, j, 1] = int(ratio*g)\n",
        "        photo_gallery.img[i, j, 2] = int(ratio*b)\n",
        "\n",
        "photo_gallery.show()"
      ]
    },
    {
      "cell_type": "code",
      "execution_count": 11,
      "id": "2f8a3e2e",
      "metadata": {
        "id": "2f8a3e2e"
      },
      "outputs": [],
      "source": [
        "photo_gallery.scale = 50\n",
        "for i in range(photo_gallery.height):\n",
        "    for j in range(photo_gallery.width):\n",
        "        z = pixel_to_complex_number(photo_gallery, i,j)\n",
        "        w = z * z\n",
        "        ratio = abs_to_brightness(abs(w))\n",
        "        th = mod_2pi( cmath.phase(w))\n",
        "        r, g, b = get_color(th)\n",
        "        photo_gallery.img[i, j, 0] = int(ratio*r)\n",
        "        photo_gallery.img[i, j, 1] = int(ratio*g)\n",
        "        photo_gallery.img[i, j, 2] = int(ratio*b)\n",
        "\n",
        "photo_gallery.show()"
      ]
    },
    {
      "cell_type": "code",
      "execution_count": 12,
      "id": "afa8e930",
      "metadata": {
        "id": "afa8e930"
      },
      "outputs": [],
      "source": [
        "photo_gallery.scale = 50\n",
        "for i in range(photo_gallery.height):\n",
        "    for j in range(photo_gallery.width):\n",
        "        z = pixel_to_complex_number(photo_gallery, i,j)\n",
        "        w = z * z * z\n",
        "        ratio = abs_to_brightness(abs(w))\n",
        "        th = mod_2pi( cmath.phase(w))\n",
        "        r, g, b = get_color(th)\n",
        "        photo_gallery.img[i, j, 0] = int(ratio*r)\n",
        "        photo_gallery.img[i, j, 1] = int(ratio*g)\n",
        "        photo_gallery.img[i, j, 2] = int(ratio*b)\n",
        "\n",
        "photo_gallery.show()"
      ]
    },
    {
      "cell_type": "code",
      "execution_count": 13,
      "id": "94c41a6d",
      "metadata": {
        "id": "94c41a6d"
      },
      "outputs": [],
      "source": [
        "photo_gallery.scale = 100\n",
        "for i in range(photo_gallery.height):\n",
        "    for j in range(photo_gallery.width):\n",
        "        z = pixel_to_complex_number(photo_gallery, i,j)\n",
        "        w = (z-1) * (z+1)\n",
        "        ratio = abs_to_brightness(abs(w))\n",
        "        th = mod_2pi( cmath.phase(w))\n",
        "        r, g, b = get_color(th)\n",
        "        photo_gallery.img[i, j, 0] = int(ratio*r)\n",
        "        photo_gallery.img[i, j, 1] = int(ratio*g)\n",
        "        photo_gallery.img[i, j, 2] = int(ratio*b)\n",
        "\n",
        "photo_gallery.show()"
      ]
    },
    {
      "cell_type": "code",
      "execution_count": 14,
      "id": "b3b6f765",
      "metadata": {
        "id": "b3b6f765"
      },
      "outputs": [],
      "source": [
        "photo_gallery.scale = 100\n",
        "for i in range(photo_gallery.height):\n",
        "    for j in range(photo_gallery.width):\n",
        "        z = pixel_to_complex_number(photo_gallery, i,j)\n",
        "        if z != 0:\n",
        "            w = 1/z\n",
        "            ratio = abs_to_brightness(abs(w))\n",
        "            th = mod_2pi( cmath.phase(w))\n",
        "            r, g, b = get_color(th)\n",
        "            photo_gallery.img[i, j, 0] = int(ratio*r)\n",
        "            photo_gallery.img[i, j, 1] = int(ratio*g)\n",
        "            photo_gallery.img[i, j, 2] = int(ratio*b)\n",
        "\n",
        "photo_gallery.show()"
      ]
    },
    {
      "cell_type": "code",
      "execution_count": 15,
      "id": "f05fd8ac",
      "metadata": {
        "id": "f05fd8ac"
      },
      "outputs": [],
      "source": [
        "photo_gallery.scale = 100\n",
        "for i in range(photo_gallery.height):\n",
        "    for j in range(photo_gallery.width):\n",
        "        z = pixel_to_complex_number(photo_gallery, i,j)\n",
        "        if z != 1 and z != -1:\n",
        "            w = 1/((z-1)*(z+1))\n",
        "            ratio = abs_to_brightness(abs(w))\n",
        "            th = mod_2pi( cmath.phase(w))\n",
        "            r, g, b = get_color(th)\n",
        "            photo_gallery.img[i, j, 0] = int(ratio*r)\n",
        "            photo_gallery.img[i, j, 1] = int(ratio*g)\n",
        "            photo_gallery.img[i, j, 2] = int(ratio*b)\n",
        "\n",
        "photo_gallery.show()"
      ]
    },
    {
      "cell_type": "code",
      "execution_count": 16,
      "id": "6554d094",
      "metadata": {
        "id": "6554d094"
      },
      "outputs": [],
      "source": [
        "photo_gallery.scale = 20\n",
        "for i in range(photo_gallery.height):\n",
        "    for j in range(photo_gallery.width):\n",
        "        z = pixel_to_complex_number(photo_gallery, i,j)\n",
        "        w = cmath.exp(z)\n",
        "        ratio = abs_to_brightness(abs(w))\n",
        "        th = mod_2pi( cmath.phase(w))\n",
        "        r, g, b = get_color(th)\n",
        "        photo_gallery.img[i, j, 0] = int(ratio*r)\n",
        "        photo_gallery.img[i, j, 1] = int(ratio*g)\n",
        "        photo_gallery.img[i, j, 2] = int(ratio*b)\n",
        "\n",
        "photo_gallery.show()"
      ]
    },
    {
      "cell_type": "code",
      "execution_count": 17,
      "id": "fa23f4ad",
      "metadata": {
        "id": "fa23f4ad"
      },
      "outputs": [],
      "source": [
        "photo_gallery.scale = 20\n",
        "for i in range(photo_gallery.height):\n",
        "    for j in range(photo_gallery.width):\n",
        "        z = pixel_to_complex_number(photo_gallery, i,j)\n",
        "        w = cmath.sin(z)\n",
        "        ratio = abs_to_brightness(abs(w))\n",
        "        th = mod_2pi( cmath.phase(w))\n",
        "        r, g, b = get_color(th)\n",
        "        photo_gallery.img[i, j, 0] = int(ratio*r)\n",
        "        photo_gallery.img[i, j, 1] = int(ratio*g)\n",
        "        photo_gallery.img[i, j, 2] = int(ratio*b)\n",
        "\n",
        "photo_gallery.show()"
      ]
    },
    {
      "cell_type": "code",
      "execution_count": 18,
      "id": "8c96075c",
      "metadata": {
        "id": "8c96075c"
      },
      "outputs": [],
      "source": [
        "photo_gallery.scale = 20\n",
        "for i in range(photo_gallery.height):\n",
        "    for j in range(photo_gallery.width):\n",
        "        z = pixel_to_complex_number(photo_gallery, i,j)\n",
        "        w = cmath.cos(z)\n",
        "        ratio = abs_to_brightness(abs(w))\n",
        "        th = mod_2pi( cmath.phase(w))\n",
        "        r, g, b = get_color(th)\n",
        "        photo_gallery.img[i, j, 0] = int(ratio*r)\n",
        "        photo_gallery.img[i, j, 1] = int(ratio*g)\n",
        "        photo_gallery.img[i, j, 2] = int(ratio*b)\n",
        "\n",
        "photo_gallery.show()"
      ]
    },
    {
      "cell_type": "code",
      "execution_count": 19,
      "id": "09c847dc",
      "metadata": {
        "id": "09c847dc"
      },
      "outputs": [],
      "source": [
        "photo_gallery.scale = 100\n",
        "for i in range(photo_gallery.height):\n",
        "    for j in range(photo_gallery.width):\n",
        "        z = pixel_to_complex_number(photo_gallery, i,j)\n",
        "        if z != 0:\n",
        "            w = cmath.log(z)\n",
        "            ratio = abs_to_brightness(abs(w))\n",
        "            th = mod_2pi( cmath.phase(w))\n",
        "            r, g, b = get_color(th)\n",
        "            photo_gallery.img[i, j, 0] = int(ratio*r)\n",
        "            photo_gallery.img[i, j, 1] = int(ratio*g)\n",
        "            photo_gallery.img[i, j, 2] = int(ratio*b)\n",
        "\n",
        "photo_gallery.show()"
      ]
    },
    {
      "cell_type": "code",
      "execution_count": 20,
      "id": "bdab13ba",
      "metadata": {
        "scrolled": true,
        "id": "bdab13ba"
      },
      "outputs": [],
      "source": [
        "n = 255\n",
        "M = 2 * n\n",
        "im = np.zeros((M, M, 3), dtype=np.uint8)\n",
        "\n",
        "for i in range(n):\n",
        "    for j in range(i):\n",
        "        x1 = 2*i; x2 = 2*i+2\n",
        "        y1 = n-1-i+2*j; y2 = n-i+2*j+1\n",
        "        im[x1:x2, y1:y2, 0] = i\n",
        "        im[x1:x2, y1:y2, 1] = 255-j\n",
        "        im[x1:x2, y1:y2, 2] = 255-i+j\n",
        "\n",
        "#plt.imshow(im)\n",
        "#plt.show()"
      ]
    },
    {
      "cell_type": "code",
      "execution_count": 21,
      "id": "a6e88fe2",
      "metadata": {
        "id": "a6e88fe2"
      },
      "outputs": [],
      "source": [
        "photo_gallery.count += 1\n",
        "plt.imsave('no+e_photo_gallery_033_'+str(photo_gallery.count).zfill(3)+'.png', im)"
      ]
    },
    {
      "cell_type": "code",
      "execution_count": 22,
      "id": "01b55982",
      "metadata": {
        "id": "01b55982"
      },
      "outputs": [],
      "source": [
        "n = 255\n",
        "M = 2 * n\n",
        "im = np.ones((M, M, 3), dtype=np.uint8) * 255\n",
        "\n",
        "for i in range(n):\n",
        "    for j in range(i):\n",
        "        x1 = 2*i; x2 = 2*i+2\n",
        "        y1 = n-1-i+2*j; y2 = n-i+2*j+1\n",
        "        im[x1:x2, y1:y2, 0] = 255-i\n",
        "        im[x1:x2, y1:y2, 1] = j\n",
        "        im[x1:x2, y1:y2, 2] = i-j\n",
        "\n",
        "#plt.imshow(im)\n",
        "#plt.show()"
      ]
    },
    {
      "cell_type": "code",
      "execution_count": 23,
      "id": "dcd7884b",
      "metadata": {
        "id": "dcd7884b"
      },
      "outputs": [],
      "source": [
        "photo_gallery.count += 1\n",
        "plt.imsave('no+e_photo_gallery_033_'+str(photo_gallery.count).zfill(3)+'.png', im)"
      ]
    }
  ],
  "metadata": {
    "kernelspec": {
      "display_name": "Python 3 (ipykernel)",
      "language": "python",
      "name": "python3"
    },
    "language_info": {
      "codemirror_mode": {
        "name": "ipython",
        "version": 3
      },
      "file_extension": ".py",
      "mimetype": "text/x-python",
      "name": "python",
      "nbconvert_exporter": "python",
      "pygments_lexer": "ipython3",
      "version": "3.8.12"
    },
    "colab": {
      "provenance": [],
      "include_colab_link": true
    }
  },
  "nbformat": 4,
  "nbformat_minor": 5
}