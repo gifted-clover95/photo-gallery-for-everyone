{
  "cells": [
    {
      "cell_type": "markdown",
      "metadata": {
        "id": "view-in-github",
        "colab_type": "text"
      },
      "source": [
        "<a href=\"https://colab.research.google.com/github/gifted-clover95/photo-gallery-for-everyone/blob/main/no%2Be038.ipynb\" target=\"_parent\"><img src=\"https://colab.research.google.com/assets/colab-badge.svg\" alt=\"Open In Colab\"/></a>"
      ]
    },
    {
      "cell_type": "code",
      "execution_count": 1,
      "id": "148df787",
      "metadata": {
        "id": "148df787"
      },
      "outputs": [],
      "source": [
        "import matplotlib.pyplot as plt\n",
        "import numpy as np"
      ]
    },
    {
      "cell_type": "code",
      "execution_count": 2,
      "id": "2079ee98",
      "metadata": {
        "id": "2079ee98"
      },
      "outputs": [],
      "source": [
        "class photo_gallery_for_everyone :\n",
        "    def __init__(self, file_name):\n",
        "        self.file_name = file_name\n",
        "        self.count = 0\n",
        "        self.height = 670\n",
        "        self.width = 1280\n",
        "        self.img = np.ones((self.height, self.width, 3), dtype=np.uint8) * 255\n",
        "        self.origin = (self.height, self.width)\n",
        "        self.scale = 1.0\n",
        "\n",
        "    def set_origin_center(self):\n",
        "        self.origin = (self.height//2, self.width//2)\n",
        "\n",
        "    def show(self,im = 0):\n",
        "        if type(im) != np.ndarray:\n",
        "            im = self.img\n",
        "        #plt.imshow(im)\n",
        "        #plt.show()\n",
        "        self.count += 1\n",
        "        plt.imsave(self.file_name + str(self.count).zfill(3) + '.png', im)\n"
      ]
    },
    {
      "cell_type": "code",
      "execution_count": 3,
      "id": "a08049ca",
      "metadata": {
        "id": "a08049ca"
      },
      "outputs": [],
      "source": [
        "photo_gallery = photo_gallery_for_everyone('no+e_photo_gallery_038_')"
      ]
    },
    {
      "cell_type": "code",
      "execution_count": 4,
      "id": "c1c875f2",
      "metadata": {
        "id": "c1c875f2"
      },
      "outputs": [],
      "source": [
        "class lattice :\n",
        "    def __init__(self,x,y,d):\n",
        "        self.angle = np.pi / 3.0\n",
        "        self.sin_angle = np.sin( self.angle )\n",
        "        self.cos_angle = np.cos( self.angle )\n",
        "        self.x = x\n",
        "        self.y = y\n",
        "        self.direction = d\n",
        "\n",
        "    def turn_left(self):\n",
        "        self.direction= (self.direction+1) % 6\n",
        "        return\n",
        "\n",
        "    def turn_right(self):\n",
        "        self.direction= (self.direction-1) % 6\n",
        "        return\n",
        "\n",
        "    def move_forward(self):\n",
        "        if self.direction == 0:\n",
        "            self.x += 1\n",
        "        elif self.direction == 1:\n",
        "            self.y += 1\n",
        "        elif self.direction == 2:\n",
        "            self.x -= 1\n",
        "            self.y += 1\n",
        "        elif self.direction == 3:\n",
        "            self.x -= 1\n",
        "        elif self.direction == 4:\n",
        "            self.y -= 1\n",
        "        elif self.direction == 5:\n",
        "            self.x += 1\n",
        "            self.y -= 1\n",
        "        else :\n",
        "            print(\"move_forward : error\")\n",
        "        return (self.x, self.y)\n",
        "\n",
        "    def get_current_point(self):\n",
        "        return (self.x, self.y)\n",
        "\n",
        "    def transform_point(self, p):\n",
        "        x, y = p\n",
        "        return (x + self.cos_angle * y, self.sin_angle * y)"
      ]
    },
    {
      "cell_type": "code",
      "execution_count": 5,
      "id": "492fe249",
      "metadata": {
        "id": "492fe249"
      },
      "outputs": [],
      "source": [
        "class terdragon :\n",
        "    def __init__(self, n,x=0,y=0,d=0):\n",
        "        self.n = n\n",
        "        self.lattice = lattice(x,y,d)\n",
        "        self.string_rewriting_rule = {'F':'F+F-F'}\n",
        "        self.path = [self.lattice.get_current_point()]\n",
        "        self.generate_path()\n",
        "\n",
        "    def generate_string(self):\n",
        "        s = 'F'\n",
        "        for i in range(self.n):\n",
        "            s = s.translate(str.maketrans(self.string_rewriting_rule))\n",
        "        return s\n",
        "\n",
        "    def generate_path(self):\n",
        "        for c in  self.generate_string():\n",
        "            if c == 'F':\n",
        "                self.path.append(self.lattice.move_forward())\n",
        "            elif c == '+':\n",
        "                self.lattice.turn_left()\n",
        "                self.lattice.turn_left()\n",
        "            elif c == '-':\n",
        "                self.lattice.turn_right()\n",
        "                self.lattice.turn_right()\n",
        "            else:\n",
        "                print(\"generate_path : error\")"
      ]
    },
    {
      "cell_type": "code",
      "execution_count": 6,
      "id": "91e74f7a",
      "metadata": {
        "id": "91e74f7a"
      },
      "outputs": [],
      "source": [
        "class color_iterator():\n",
        "    def __init__(self, initial = 0):\n",
        "        self.edge, self.r =  divmod (initial, 256)\n",
        "\n",
        "    def get_color(self):\n",
        "        if self.edge == 0:\n",
        "            retv = (255, 255-self.r, self.r)\n",
        "        elif self.edge == 1:\n",
        "            retv = (255-self.r, self.r, 255)\n",
        "        else:\n",
        "            retv = (self.r, 255, 255-self.r)\n",
        "\n",
        "        self.r += 1\n",
        "        if self.r == 256:\n",
        "            self.r = 1\n",
        "            self.edge += 1\n",
        "            if self.edge == 3:\n",
        "                self.edge = 0\n",
        "\n",
        "        return retv"
      ]
    },
    {
      "cell_type": "code",
      "execution_count": 7,
      "id": "b81c1279",
      "metadata": {
        "id": "b81c1279"
      },
      "outputs": [],
      "source": [
        "def line (img, p1, p2, q1, q2, color=(0,0,0)):\n",
        "    x1 = p1 + 0.5; x2 = q1 + 0.5\n",
        "    y1 = p2 + 0.5; y2 = q2 + 0.5\n",
        "    h = abs(q1-p1); w = abs(q2-p2)\n",
        "    M = max(h,w)+1\n",
        "    eps = 1.0/M\n",
        "    for t in np.linspace(0,1, M ):\n",
        "        x = int(t*x1+(1-t)*x2)\n",
        "        y = int(t*y1+(1-t)*y2)\n",
        "        img[x, y, 0] =  color[0]\n",
        "        img[x, y, 1] =  color[1]\n",
        "        img[x, y, 2] =  color[2]"
      ]
    },
    {
      "cell_type": "code",
      "execution_count": 8,
      "id": "67909b01",
      "metadata": {
        "id": "67909b01"
      },
      "outputs": [],
      "source": [
        "n = 6\n",
        "eps = 10\n",
        "T1 = terdragon(n)\n",
        "T2 = terdragon(n, 0,0,1)\n",
        "T3 = terdragon(n, 0,0,2)\n",
        "T4 = terdragon(n, 0,0,3)\n",
        "T5 = terdragon(n, 0,0,4)\n",
        "T6 = terdragon(n, 0,0,5)\n",
        "\n",
        "nrow = len(T1.path)\n",
        "P = np.zeros((6, nrow, 2))\n",
        "for i in range(nrow):\n",
        "    P[0, i, :] = T1.lattice.transform_point(T1.path[i])\n",
        "    P[1, i, :] = T2.lattice.transform_point(T2.path[i])\n",
        "    P[2, i, :] = T3.lattice.transform_point(T3.path[i])\n",
        "    P[3, i, :] = T4.lattice.transform_point(T4.path[i])\n",
        "    P[4, i, :] = T5.lattice.transform_point(T5.path[i])\n",
        "    P[5, i, :] = T6.lattice.transform_point(T6.path[i])\n",
        "\n",
        "\n",
        "h = P[:,:,0].max() - P[:,:,0].min()\n",
        "w = P[:,:,1].max() - P[:,:,1].min()\n",
        "R = min( (photo_gallery.height-eps) / h, (photo_gallery.width-eps)/ w)\n",
        "P = R * P; h = R * h; w = R * w\n",
        "\n",
        "x = 0.5 * (photo_gallery.height-h) - P[:,:,0].min()\n",
        "y = 0.5 * (photo_gallery.width-w) - P[:,:,1].min()\n",
        "P = P + np.array([x,y])\n",
        "\n",
        "photo_gallery.img[:,:,:] = 255\n",
        "for i in range(1,nrow):\n",
        "    line(photo_gallery.img,\n",
        "         round(P[0][i-1][0]), round(P[0][i-1][1]),\n",
        "         round(P[0][i][0]),round(P[0][i][1]), (255,0,0))\n",
        "    line(photo_gallery.img,\n",
        "         round(P[1][i-1][0]), round(P[1][i-1][1]),\n",
        "         round(P[1][i][0]),round(P[1][i][1]), (0,255,0))\n",
        "    line(photo_gallery.img,\n",
        "         round(P[2][i-1][0]), round(P[2][i-1][1]),\n",
        "         round(P[2][i][0]),round(P[2][i][1]), (0,0,255))\n",
        "    line(photo_gallery.img,\n",
        "         round(P[3][i-1][0]), round(P[3][i-1][1]),\n",
        "         round(P[3][i][0]),round(P[3][i][1]), (255,0,0))\n",
        "    line(photo_gallery.img,\n",
        "         round(P[4][i-1][0]), round(P[4][i-1][1]),\n",
        "         round(P[4][i][0]),round(P[4][i][1]), (0,255,0))\n",
        "    line(photo_gallery.img,\n",
        "         round(P[5][i-1][0]), round(P[5][i-1][1]),\n",
        "         round(P[5][i][0]),round(P[5][i][1]), (0,0,255))\n",
        "\n",
        "photo_gallery.show()"
      ]
    },
    {
      "cell_type": "code",
      "execution_count": 9,
      "id": "a7eaf7c0",
      "metadata": {
        "scrolled": true,
        "id": "a7eaf7c0"
      },
      "outputs": [],
      "source": [
        "for n in range(1,8):\n",
        "    eps = 10\n",
        "    T1 = terdragon(n)\n",
        "    T2 = terdragon(n, 0,0,1)\n",
        "    x,y = T1.path[-1]\n",
        "    T3 = terdragon(n, x,y,2)\n",
        "\n",
        "    nrow = len(T1.path)\n",
        "    P = np.zeros((3, nrow, 2))\n",
        "    for i in range(nrow):\n",
        "        P[0, i, :] = T1.lattice.transform_point(T1.path[i])\n",
        "        P[1, i, :] = T2.lattice.transform_point(T2.path[i])\n",
        "        P[2, i, :] = T3.lattice.transform_point(T3.path[i])\n",
        "\n",
        "    h = P[:,:,0].max() - P[:,:,0].min()\n",
        "    w = P[:,:,1].max() - P[:,:,1].min()\n",
        "    R = min( (photo_gallery.height-eps) / h, (photo_gallery.width-eps)/ w)\n",
        "    P = R * P; h = R * h; w = R * w\n",
        "\n",
        "    x = 0.5 * (photo_gallery.height-h) - P[:,:,0].min()\n",
        "    y = 0.5 * (photo_gallery.width-w) - P[:,:,1].min()\n",
        "    P = P + np.array([x,y])\n",
        "\n",
        "    photo_gallery.img[:,:,:] = 0\n",
        "    for i in range(1,nrow):\n",
        "        line(photo_gallery.img,\n",
        "             round(P[0][i-1][0]), round(P[0][i-1][1]),\n",
        "             round(P[0][i][0]),round(P[0][i][1]), (0,255,255))\n",
        "        line(photo_gallery.img,\n",
        "             round(P[1][i-1][0]), round(P[1][i-1][1]),\n",
        "             round(P[1][i][0]),round(P[1][i][1]), (255, 0, 255))\n",
        "        line(photo_gallery.img,\n",
        "             round(P[2][i-1][0]), round(P[2][i-1][1]),\n",
        "             round(P[2][i][0]),round(P[2][i][1]), (255,255,0))\n",
        "    photo_gallery.show()"
      ]
    },
    {
      "cell_type": "code",
      "execution_count": 10,
      "id": "7e19d896",
      "metadata": {
        "scrolled": true,
        "id": "7e19d896"
      },
      "outputs": [],
      "source": [
        "def tiling (n = 1, m1 = 3, m2 = 6):\n",
        "    x = 0; y = 0\n",
        "    eps = 10\n",
        "    T1 = terdragon(n, x, y, 0)\n",
        "    T2 = terdragon(n, x, y,1)\n",
        "    x,y = T1.path[-1]\n",
        "    x1,y1 = T1.path[-1]\n",
        "    T3 = terdragon(n, x,y,2)\n",
        "    nrow = len(T1.path)\n",
        "    P = np.zeros((3 * m1 * m2, nrow, 2))\n",
        "    for i in range(nrow):\n",
        "        P[0, i, :] = T1.lattice.transform_point(T1.path[i])\n",
        "        P[1, i, :] = T2.lattice.transform_point(T2.path[i])\n",
        "        P[2, i, :] = T3.lattice.transform_point(T3.path[i])\n",
        "\n",
        "    x,y = T3.path[-1]\n",
        "    for k in range(1,m2):\n",
        "        T1 = terdragon(n, x, y, 0)\n",
        "        T2 = terdragon(n, x, y,1)\n",
        "        x,y = T1.path[-1]\n",
        "        T3 = terdragon(n, x,y,2)\n",
        "        x,y = T3.path[-1]\n",
        "        for i in range(nrow):\n",
        "            P[3*k+0, i, :] = T1.lattice.transform_point(T1.path[i])\n",
        "            P[3*k+1, i, :] = T2.lattice.transform_point(T2.path[i])\n",
        "            P[3*k+2, i, :] = T3.lattice.transform_point(T3.path[i])\n",
        "\n",
        "    for l in range(1,m1):\n",
        "        x = x1; y = y1\n",
        "        T1 = terdragon(n, x, y, 0)\n",
        "        T2 = terdragon(n, x, y,1)\n",
        "        x,y = T1.path[-1]\n",
        "        x1,y1 = T1.path[-1]\n",
        "        T3 = terdragon(n, x,y,2)\n",
        "        for i in range(nrow):\n",
        "            P[3*l*m2+0, i, :] = T1.lattice.transform_point(T1.path[i])\n",
        "            P[3*l*m2+1, i, :] = T2.lattice.transform_point(T2.path[i])\n",
        "            P[3*l*m2+2, i, :] = T3.lattice.transform_point(T3.path[i])\n",
        "        x,y = T3.path[-1]\n",
        "        for k in range(1,m2):\n",
        "            T1 = terdragon(n, x, y, 0)\n",
        "            T2 = terdragon(n, x, y,1)\n",
        "            x,y = T1.path[-1]\n",
        "            T3 = terdragon(n, x,y,2)\n",
        "            x,y = T3.path[-1]\n",
        "            for i in range(nrow):\n",
        "                P[3*l*m2+3*k+0, i, :] = T1.lattice.transform_point(T1.path[i])\n",
        "                P[3*l*m2+3*k+1, i, :] = T2.lattice.transform_point(T2.path[i])\n",
        "                P[3*l*m2+3*k+2, i, :] = T3.lattice.transform_point(T3.path[i])\n",
        "\n",
        "    h = P[:,:,0].max() - P[:,:,0].min()\n",
        "    w = P[:,:,1].max() - P[:,:,1].min()\n",
        "    R = min( (photo_gallery.height-eps) / h, (photo_gallery.width-eps)/ w)\n",
        "    P = R * P; h = R * h; w = R * w\n",
        "\n",
        "    x = 0.5 * (photo_gallery.height-h) - P[:,:,0].min()\n",
        "    y = 0.5 * (photo_gallery.width-w) - P[:,:,1].min()\n",
        "    P = P + np.array([x,y])\n",
        "\n",
        "    photo_gallery.img[:,:,:] = 0\n",
        "    for i in range(1,nrow):\n",
        "        for k in range(m1*m2):\n",
        "            line(photo_gallery.img,\n",
        "                 round(P[3*k+0][i-1][0]), round(P[3*k+0][i-1][1]),\n",
        "                 round(P[3*k+0][i][0]),round(P[3*k+0][i][1]), (0,255,255))\n",
        "            line(photo_gallery.img,\n",
        "                 round(P[3*k+1][i-1][0]), round(P[3*k+1][i-1][1]),\n",
        "                 round(P[3*k+1][i][0]),round(P[3*k+1][i][1]), (255, 0, 255))\n",
        "            line(photo_gallery.img,\n",
        "                 round(P[3*k+2][i-1][0]), round(P[3*k+2][i-1][1]),\n",
        "                 round(P[3*k+2][i][0]),round(P[3*k+2][i][1]), (255,255,0))\n",
        "    photo_gallery.show()"
      ]
    },
    {
      "cell_type": "code",
      "execution_count": 11,
      "id": "73d8e76b",
      "metadata": {
        "scrolled": true,
        "id": "73d8e76b"
      },
      "outputs": [],
      "source": [
        "tiling(1, 9,10)"
      ]
    },
    {
      "cell_type": "code",
      "execution_count": 12,
      "id": "23c35de6",
      "metadata": {
        "scrolled": true,
        "id": "23c35de6"
      },
      "outputs": [],
      "source": [
        "tiling(2, 4,8)"
      ]
    },
    {
      "cell_type": "code",
      "execution_count": 13,
      "id": "ca829bcf",
      "metadata": {
        "scrolled": true,
        "id": "ca829bcf"
      },
      "outputs": [],
      "source": [
        "tiling(3, 6,5)"
      ]
    },
    {
      "cell_type": "code",
      "execution_count": 14,
      "id": "05eb6351",
      "metadata": {
        "scrolled": true,
        "id": "05eb6351"
      },
      "outputs": [],
      "source": [
        "tiling(4, 4,3)"
      ]
    },
    {
      "cell_type": "code",
      "execution_count": 15,
      "id": "66cecd96",
      "metadata": {
        "scrolled": true,
        "id": "66cecd96"
      },
      "outputs": [],
      "source": [
        "tiling(7, 3,4)"
      ]
    },
    {
      "cell_type": "code",
      "execution_count": 15,
      "id": "e6d5dc59",
      "metadata": {
        "id": "e6d5dc59"
      },
      "outputs": [],
      "source": []
    }
  ],
  "metadata": {
    "kernelspec": {
      "display_name": "Python 3 (ipykernel)",
      "language": "python",
      "name": "python3"
    },
    "language_info": {
      "codemirror_mode": {
        "name": "ipython",
        "version": 3
      },
      "file_extension": ".py",
      "mimetype": "text/x-python",
      "name": "python",
      "nbconvert_exporter": "python",
      "pygments_lexer": "ipython3",
      "version": "3.8.12"
    },
    "colab": {
      "provenance": [],
      "include_colab_link": true
    }
  },
  "nbformat": 4,
  "nbformat_minor": 5
}