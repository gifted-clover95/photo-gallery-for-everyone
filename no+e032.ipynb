{
  "cells": [
    {
      "cell_type": "markdown",
      "metadata": {
        "id": "view-in-github",
        "colab_type": "text"
      },
      "source": [
        "<a href=\"https://colab.research.google.com/github/gifted-clover95/photo-gallery-for-everyone/blob/main/no%2Be032.ipynb\" target=\"_parent\"><img src=\"https://colab.research.google.com/assets/colab-badge.svg\" alt=\"Open In Colab\"/></a>"
      ]
    },
    {
      "cell_type": "code",
      "execution_count": 1,
      "id": "148df787",
      "metadata": {
        "id": "148df787"
      },
      "outputs": [],
      "source": [
        "import matplotlib.pyplot as plt\n",
        "import numpy as np"
      ]
    },
    {
      "cell_type": "code",
      "execution_count": 2,
      "id": "6d18552f",
      "metadata": {
        "id": "6d18552f"
      },
      "outputs": [],
      "source": [
        "class curve:\n",
        "    def __init__(self, n, prm1 = 2, prm2 =0):\n",
        "        self.n = n\n",
        "        self.prm1 = prm1\n",
        "        self.prm2 = prm2\n",
        "        self.str = self.gen_str(n)\n",
        "        self.points = self.gen_points (n)\n",
        "        self.color = (0,0,0)\n",
        "        self.x0 = 0\n",
        "        self.y0 = 0\n",
        "        self.direction = 0\n",
        "\n",
        "    # 文字列を生成するための関数\n",
        "    def gen_str(self, n):\n",
        "        s = 'A'\n",
        "        for i in range(n):\n",
        "            s = s.translate(str.maketrans({'A':'+BF-AFA-FB+','B':'-AF+BFB+FA-'}))\n",
        "        return s\n",
        "\n",
        "    # 亀の向きを変える\n",
        "    def L(self,l,d0):\n",
        "        d = (d0+1) % 4\n",
        "        for i in range(self.prm2):\n",
        "            self.F(l,d)\n",
        "            self.F(l,d0)\n",
        "        return d\n",
        "    def R(self,l,d0):\n",
        "        d = (d0-1) % 4\n",
        "        for i in range(self.prm2):\n",
        "            self.F(l,d)\n",
        "            self.F(l,d0)\n",
        "        return d\n",
        "    # 亀を前進させる\n",
        "    def F(self,l, direction):\n",
        "        x = l[-1][0]; y = l[-1][1]\n",
        "        if direction == 0:\n",
        "            l.append([x+1, y  ])\n",
        "        elif direction == 1:\n",
        "            l.append([x  , y+1])\n",
        "        elif direction == 2:\n",
        "            l.append([x-1, y  ])\n",
        "        elif direction == 3:\n",
        "            l.append([x  , y-1])\n",
        "        else:\n",
        "            print(\"F:error\")\n",
        "\n",
        "    # 生成された文字列にしたがって亀を移動させる\n",
        "    def move(self,l,c,direction):\n",
        "        if c == 'F':\n",
        "            for i in range(self.prm1):\n",
        "                self.F(l,direction)\n",
        "            retv = direction\n",
        "        elif c == '+':\n",
        "            retv = self.L(l,direction)\n",
        "        elif c == '-':\n",
        "            retv = self.R(l,direction)\n",
        "        else:\n",
        "            retv = direction\n",
        "        return retv\n",
        "\n",
        "    # 点の座標の生成\n",
        "    def gen_points(self, n):\n",
        "        l = [[0,0]]\n",
        "        d = 0\n",
        "        for c in self.str:\n",
        "            d = self.move(l,c,d)\n",
        "\n",
        "        n_points = len(l)\n",
        "        x = np.zeros((n_points,2),dtype=int)\n",
        "        for i in range(n_points):\n",
        "            x[i][0] = l[i][0]\n",
        "            x[i][1] = l[i][1]\n",
        "\n",
        "        self.min_x = min(x[:,0])\n",
        "        self.min_y = min(x[:,1])\n",
        "        self.max_x = max(x[:,0])\n",
        "        self.max_y = max(x[:,1])\n",
        "\n",
        "        self.width = self.max_x - self.min_x+1\n",
        "        self.height = self.max_y - self.min_y+1\n",
        "        return x\n",
        "\n",
        "    def draw (self,im, x, y, direction=0, color=(0,0,0)):\n",
        "        self.color = color\n",
        "        self.direction = direction\n",
        "        self.x0 = x\n",
        "        self.y0 = y\n",
        "        if self.direction == 0:\n",
        "            for pt in self.points:\n",
        "                im[self.x0+pt[0], self.y0+pt[1],0] = self.color[0]\n",
        "                im[self.x0+pt[0], self.y0+pt[1],1] = self.color[1]\n",
        "                im[self.x0+pt[0], self.y0+pt[1],2] = self.color[2]\n",
        "        elif self.direction == 1:\n",
        "            for pt in self.points:\n",
        "                im[self.x0-pt[1], self.y0+pt[0],0] = self.color[0]\n",
        "                im[self.x0-pt[1], self.y0+pt[0],1] = self.color[1]\n",
        "                im[self.x0-pt[1], self.y0+pt[0],2] = self.color[2]\n",
        "        elif self.direction == 2:\n",
        "            for pt in self.points:\n",
        "                im[self.x0-pt[0], self.y0-pt[1],0] = self.color[0]\n",
        "                im[self.x0-pt[0], self.y0-pt[1],1] = self.color[1]\n",
        "                im[self.x0-pt[0], self.y0-pt[1],2] = self.color[2]\n",
        "        elif self.direction == 3:\n",
        "            for pt in self.points:\n",
        "                im[self.x0+pt[1], self.y0-pt[0],0] = self.color[0]\n",
        "                im[self.x0+pt[1], self.y0-pt[0],1] = self.color[1]\n",
        "                im[self.x0+pt[1], self.y0-pt[0],2] = self.color[2]\n"
      ]
    },
    {
      "cell_type": "code",
      "execution_count": 3,
      "id": "f05d9e7b",
      "metadata": {
        "id": "f05d9e7b"
      },
      "outputs": [],
      "source": [
        "# \"みんなのフォトギャラリー\"の画像サイズ\n",
        "width = 1280 ; height = 670"
      ]
    },
    {
      "cell_type": "code",
      "execution_count": 4,
      "id": "509addab",
      "metadata": {
        "id": "509addab"
      },
      "outputs": [],
      "source": [
        "img_count = 0 # 画像の枚数"
      ]
    },
    {
      "cell_type": "code",
      "execution_count": 5,
      "id": "90a6d091",
      "metadata": {
        "id": "90a6d091"
      },
      "outputs": [],
      "source": [
        "def zoom_in (img, n):\n",
        "    s1, s2, ncol = img.shape\n",
        "    retv = np.zeros((s1*n, s2*n, ncol), dtype=np.uint8)\n",
        "    block = np.ones((n,n))\n",
        "    for i in range(s1):\n",
        "        for j in range(s2):\n",
        "            for k in range(ncol):\n",
        "                retv[i*n:(i+1)*n, j*n:(j+1)*n,k] = img[i][j][k] * block\n",
        "    return retv"
      ]
    },
    {
      "cell_type": "code",
      "execution_count": 6,
      "id": "8aca00fc",
      "metadata": {
        "id": "8aca00fc"
      },
      "outputs": [],
      "source": [
        "n = 1\n",
        "h_curve = curve(n,2,0)\n",
        "M = max([h_curve.max_x - h_curve.min_x, h_curve.max_y-h_curve.min_y])\n",
        "im = np.zeros((M+1, M+1, 3), dtype=np.uint8)\n",
        "im[:,:,0] = 255; im[:,:,1] = 255; im[:,:,2] = 255\n",
        "#print(im.shape)\n",
        "#print(h_curve.str)\n",
        "#print(h_curve.points)\n",
        "\n",
        "h_curve.draw(im, M, 0, 1, (0,0,0))\n",
        "k = height // (M+1)\n",
        "im = zoom_in (im, k)\n",
        "h, w, c = im.shape\n",
        "img = np.zeros((height, width, 3), dtype=np.uint8)\n",
        "img[:,:,0] = 255; img[:,:,1] = 255; img[:,:,2] = 255\n",
        "dh = (height - h)//2; dw = (width - w)//2\n",
        "img[dh:(dh+h), dw:(dw+w),:] = im\n",
        "\n",
        "\n",
        "#plt.imshow(img)\n",
        "##plt.show()"
      ]
    },
    {
      "cell_type": "code",
      "execution_count": 7,
      "id": "ee44de45",
      "metadata": {
        "id": "ee44de45"
      },
      "outputs": [],
      "source": [
        "img_count += 1\n",
        "plt.imsave('no+e_photo_gallery_032_'+str(img_count).zfill(3)+'.png', img)"
      ]
    },
    {
      "cell_type": "code",
      "execution_count": 8,
      "id": "32790fad",
      "metadata": {
        "id": "32790fad"
      },
      "outputs": [],
      "source": [
        "n = 2\n",
        "h_curve = curve(n,2,0)\n",
        "M = max([h_curve.max_x - h_curve.min_x, h_curve.max_y-h_curve.min_y])\n",
        "im = np.zeros((M+1, M+1, 3), dtype=np.uint8)\n",
        "im[:,:,0] = 255; im[:,:,1] = 255; im[:,:,2] = 255\n",
        "#print(im.shape)\n",
        "#print(h_curve.str)\n",
        "#print(h_curve.points)\n",
        "\n",
        "h_curve.draw(im, M, 0, 1, (0,0,0))\n",
        "k = height // (M+1)\n",
        "im = zoom_in (im, k)\n",
        "h, w, c = im.shape\n",
        "img = np.zeros((height, width, 3), dtype=np.uint8)\n",
        "img[:,:,0] = 255; img[:,:,1] = 255; img[:,:,2] = 255\n",
        "dh = (height - h)//2; dw = (width - w)//2\n",
        "img[dh:(dh+h), dw:(dw+w),:] = im\n",
        "\n",
        "\n",
        "#plt.imshow(img)\n",
        "#plt.show()"
      ]
    },
    {
      "cell_type": "code",
      "execution_count": 9,
      "id": "7956fc87",
      "metadata": {
        "id": "7956fc87"
      },
      "outputs": [],
      "source": [
        "img_count += 1\n",
        "plt.imsave('no+e_photo_gallery_032_'+str(img_count).zfill(3)+'.png', img)"
      ]
    },
    {
      "cell_type": "code",
      "execution_count": 10,
      "id": "851a56a7",
      "metadata": {
        "id": "851a56a7"
      },
      "outputs": [],
      "source": [
        "n = 3\n",
        "h_curve = curve(n,2,0)\n",
        "M = max([h_curve.max_x - h_curve.min_x, h_curve.max_y-h_curve.min_y])\n",
        "im = np.zeros((M+1, M+1, 3), dtype=np.uint8)\n",
        "im[:,:,0] = 255; im[:,:,1] = 255; im[:,:,2] = 255\n",
        "#print(im.shape)\n",
        "#print(h_curve.str)\n",
        "#print(h_curve.points)\n",
        "\n",
        "h_curve.draw(im, M, 0, 1, (0,0,0))\n",
        "k = height // (M+1)\n",
        "im = zoom_in (im, k)\n",
        "h, w, c = im.shape\n",
        "img = np.zeros((height, width, 3), dtype=np.uint8)\n",
        "img[:,:,0] = 255; img[:,:,1] = 255; img[:,:,2] = 255\n",
        "dh = (height - h)//2; dw = (width - w)//2\n",
        "img[dh:(dh+h), dw:(dw+w),:] = im\n",
        "\n",
        "\n",
        "#plt.imshow(img)\n",
        "#plt.show()"
      ]
    },
    {
      "cell_type": "code",
      "execution_count": 11,
      "id": "2b6246c9",
      "metadata": {
        "id": "2b6246c9"
      },
      "outputs": [],
      "source": [
        "img_count += 1\n",
        "plt.imsave('no+e_photo_gallery_032_'+str(img_count).zfill(3)+'.png', img)"
      ]
    },
    {
      "cell_type": "code",
      "execution_count": 12,
      "id": "00b652f3",
      "metadata": {
        "id": "00b652f3"
      },
      "outputs": [],
      "source": [
        "n = 4\n",
        "h_curve = curve(n,2,0)\n",
        "M = max([h_curve.max_x - h_curve.min_x, h_curve.max_y-h_curve.min_y])\n",
        "im = np.zeros((M+1, M+1, 3), dtype=np.uint8)\n",
        "im[:,:,0] = 255; im[:,:,1] = 255; im[:,:,2] = 255\n",
        "#print(im.shape)\n",
        "#print(h_curve.str)\n",
        "#print(h_curve.points)\n",
        "\n",
        "h_curve.draw(im, M, 0, 1, (0,0,0))\n",
        "k = height // (M+1)\n",
        "im = zoom_in (im, k)\n",
        "h, w, c = im.shape\n",
        "img = np.zeros((height, width, 3), dtype=np.uint8)\n",
        "img[:,:,0] = 255; img[:,:,1] = 255; img[:,:,2] = 255\n",
        "dh = (height - h)//2; dw = (width - w)//2\n",
        "img[dh:(dh+h), dw:(dw+w),:] = im\n",
        "\n",
        "\n",
        "#plt.imshow(img)\n",
        "#plt.show()"
      ]
    },
    {
      "cell_type": "code",
      "execution_count": 13,
      "id": "0865e195",
      "metadata": {
        "id": "0865e195"
      },
      "outputs": [],
      "source": [
        "img_count += 1\n",
        "plt.imsave('no+e_photo_gallery_032_'+str(img_count).zfill(3)+'.png', img)"
      ]
    },
    {
      "cell_type": "code",
      "execution_count": 14,
      "id": "48619e5f",
      "metadata": {
        "id": "48619e5f"
      },
      "outputs": [],
      "source": [
        "n = 5\n",
        "h_curve = curve(n,2,0)\n",
        "M = max([h_curve.max_x - h_curve.min_x, h_curve.max_y-h_curve.min_y])\n",
        "im = np.zeros((M+1, M+1, 3), dtype=np.uint8)\n",
        "im[:,:,0] = 255; im[:,:,1] = 255; im[:,:,2] = 255\n",
        "#print(im.shape)\n",
        "#print(h_curve.str)\n",
        "#print(h_curve.points)\n",
        "\n",
        "h_curve.draw(im, M, 0, 1, (0,0,0))\n",
        "k = height // (M+1)\n",
        "im = zoom_in (im, k)\n",
        "h, w, c = im.shape\n",
        "img = np.zeros((height, width, 3), dtype=np.uint8)\n",
        "img[:,:,0] = 255; img[:,:,1] = 255; img[:,:,2] = 255\n",
        "dh = (height - h)//2; dw = (width - w)//2\n",
        "img[dh:(dh+h), dw:(dw+w),:] = im\n",
        "\n",
        "\n",
        "#plt.imshow(img)\n",
        "plt.show()"
      ]
    },
    {
      "cell_type": "code",
      "execution_count": 15,
      "id": "2dd90134",
      "metadata": {
        "id": "2dd90134"
      },
      "outputs": [],
      "source": [
        "img_count += 1\n",
        "plt.imsave('no+e_photo_gallery_032_'+str(img_count).zfill(3)+'.png', img)"
      ]
    },
    {
      "cell_type": "code",
      "execution_count": 16,
      "id": "fcba6575",
      "metadata": {
        "id": "fcba6575"
      },
      "outputs": [],
      "source": [
        "n = 6\n",
        "h_curve = curve(n,5,0)\n",
        "M = max([h_curve.max_x - h_curve.min_x, h_curve.max_y-h_curve.min_y])\n",
        "im = np.zeros((M+1, M+1, 3), dtype=np.uint8)\n",
        "im[:,:,0] = 255; im[:,:,1] = 255; im[:,:,2] = 255\n",
        "#print(im.shape)\n",
        "#print(h_curve.str)\n",
        "#print(h_curve.points)\n",
        "\n",
        "h_curve.draw(im, M, 0, 1, (0,0,0))\n",
        "k = height // (M+1)\n",
        "im = zoom_in (im, k)\n",
        "h, w, c = im.shape\n",
        "img = np.zeros((height, width, 3), dtype=np.uint8)\n",
        "img[:,:,0] = 255; img[:,:,1] = 255; img[:,:,2] = 255\n",
        "dh = (height - h)//2; dw = (width - w)//2\n",
        "img[dh:(dh+h), dw:(dw+w),:] = im\n",
        "\n",
        "\n",
        "#plt.imshow(img)\n",
        "plt.show()"
      ]
    },
    {
      "cell_type": "code",
      "execution_count": 17,
      "id": "09eaa5f5",
      "metadata": {
        "id": "09eaa5f5"
      },
      "outputs": [],
      "source": [
        "img_count += 1\n",
        "plt.imsave('no+e_photo_gallery_032_'+str(img_count).zfill(3)+'.png', img)"
      ]
    },
    {
      "cell_type": "code",
      "execution_count": 18,
      "id": "1dbfa2b6",
      "metadata": {
        "id": "1dbfa2b6"
      },
      "outputs": [],
      "source": [
        "n = 7\n",
        "h_curve = curve(n,5,0)\n",
        "M = max([h_curve.max_x - h_curve.min_x, h_curve.max_y-h_curve.min_y])\n",
        "im = np.zeros((M+1, M+1, 3), dtype=np.uint8)\n",
        "im[:,:,0] = 255; im[:,:,1] = 255; im[:,:,2] = 255\n",
        "#print(im.shape)\n",
        "#print(h_curve.str)\n",
        "#print(h_curve.points)\n",
        "\n",
        "h_curve.draw(im, M, 0, 1, (0,0,0))\n",
        "k = height // (M+1)\n",
        "im = zoom_in (im, k)\n",
        "h, w, c = im.shape\n",
        "img = np.zeros((height, width, 3), dtype=np.uint8)\n",
        "img[:,:,0] = 255; img[:,:,1] = 255; img[:,:,2] = 255\n",
        "dh = (height - h)//2; dw = (width - w)//2\n",
        "img[dh:(dh+h), dw:(dw+w),:] = im\n",
        "\n",
        "\n",
        "#plt.imshow(img)\n",
        "#plt.show()"
      ]
    },
    {
      "cell_type": "code",
      "execution_count": 19,
      "id": "574fa0fc",
      "metadata": {
        "id": "574fa0fc"
      },
      "outputs": [],
      "source": [
        "img_count += 1\n",
        "plt.imsave('no+e_photo_gallery_032_'+str(img_count).zfill(3)+'.png', img)"
      ]
    },
    {
      "cell_type": "code",
      "execution_count": 20,
      "id": "0b002084",
      "metadata": {
        "id": "0b002084"
      },
      "outputs": [],
      "source": [
        "n = 1\n",
        "h_curve = curve(n,2,1)\n",
        "M = max([h_curve.max_x - h_curve.min_x, h_curve.max_y-h_curve.min_y])\n",
        "im = np.zeros((M+1, 2*M+2, 3), dtype=np.uint8)\n",
        "im[:,:,0] = 255; im[:,:,1] = 255; im[:,:,2] = 255\n",
        "#print(im.shape)\n",
        "#print(h_curve.str)\n",
        "#print(h_curve.points)\n",
        "\n",
        "h_curve.draw(im, 0, M, 0, (0,0,0))\n",
        "h_curve.draw(im, M, M, 2, (0,0,0))\n",
        "\n",
        "k = width // (2*M+2)\n",
        "im = zoom_in (im, k)\n",
        "h, w, c = im.shape\n",
        "img = np.zeros((height, width, 3), dtype=np.uint8)\n",
        "img[:,:,0] = 255; img[:,:,1] = 255; img[:,:,2] = 255\n",
        "\n",
        "dh = (height - h)//2; dw = (width - w)//2\n",
        "img[dh:(dh+h), dw:(dw+w),:] = im\n",
        "\n",
        "#plt.imshow(img)\n",
        "#plt.show()"
      ]
    },
    {
      "cell_type": "code",
      "execution_count": 21,
      "id": "41e23ad1",
      "metadata": {
        "id": "41e23ad1"
      },
      "outputs": [],
      "source": [
        "img_count += 1\n",
        "plt.imsave('no+e_photo_gallery_032_'+str(img_count).zfill(3)+'.png', img)"
      ]
    },
    {
      "cell_type": "code",
      "execution_count": 22,
      "id": "0925aac9",
      "metadata": {
        "id": "0925aac9"
      },
      "outputs": [],
      "source": [
        "n = 2\n",
        "h_curve = curve(n,2,1)\n",
        "M = max([h_curve.max_x - h_curve.min_x, h_curve.max_y-h_curve.min_y])\n",
        "im = np.zeros((M+1, 2*M+2, 3), dtype=np.uint8)\n",
        "im[:,:,0] = 255; im[:,:,1] = 255; im[:,:,2] = 255\n",
        "#print(im.shape)\n",
        "#print(h_curve.str)\n",
        "#print(h_curve.points)\n",
        "\n",
        "h_curve.draw(im, 0, M, 0, (0,0,0))\n",
        "h_curve.draw(im, M, M, 2, (0,0,0))\n",
        "\n",
        "k = width // (2*M+2)\n",
        "im = zoom_in (im, k)\n",
        "h, w, c = im.shape\n",
        "img = np.zeros((height, width, 3), dtype=np.uint8)\n",
        "img[:,:,0] = 255; img[:,:,1] = 255; img[:,:,2] = 255\n",
        "\n",
        "dh = (height - h)//2; dw = (width - w)//2\n",
        "img[dh:(dh+h), dw:(dw+w),:] = im\n",
        "\n",
        "#plt.imshow(img)\n",
        "#plt.show()"
      ]
    },
    {
      "cell_type": "code",
      "execution_count": 23,
      "id": "c99fa555",
      "metadata": {
        "id": "c99fa555"
      },
      "outputs": [],
      "source": [
        "img_count += 1\n",
        "plt.imsave('no+e_photo_gallery_032_'+str(img_count).zfill(3)+'.png', img)"
      ]
    },
    {
      "cell_type": "code",
      "execution_count": 24,
      "id": "5739079e",
      "metadata": {
        "id": "5739079e"
      },
      "outputs": [],
      "source": [
        "n = 3\n",
        "h_curve = curve(n,2,1)\n",
        "M = max([h_curve.max_x - h_curve.min_x, h_curve.max_y-h_curve.min_y])\n",
        "im = np.zeros((M+1, 2*M+2, 3), dtype=np.uint8)\n",
        "im[:,:,0] = 255; im[:,:,1] = 255; im[:,:,2] = 255\n",
        "#print(im.shape)\n",
        "#print(h_curve.str)\n",
        "#print(h_curve.points)\n",
        "\n",
        "h_curve.draw(im, 0, M, 0, (0,0,0))\n",
        "h_curve.draw(im, M, M, 2, (0,0,0))\n",
        "\n",
        "k = width // (2*M+2)\n",
        "im = zoom_in (im, k)\n",
        "h, w, c = im.shape\n",
        "img = np.zeros((height, width, 3), dtype=np.uint8)\n",
        "img[:,:,0] = 255; img[:,:,1] = 255; img[:,:,2] = 255\n",
        "\n",
        "dh = (height - h)//2; dw = (width - w)//2\n",
        "img[dh:(dh+h), dw:(dw+w),:] = im\n",
        "\n",
        "#plt.imshow(img)\n",
        "#plt.show()"
      ]
    },
    {
      "cell_type": "code",
      "execution_count": 25,
      "id": "46ee0481",
      "metadata": {
        "id": "46ee0481"
      },
      "outputs": [],
      "source": [
        "img_count += 1\n",
        "plt.imsave('no+e_photo_gallery_032_'+str(img_count).zfill(3)+'.png', img)"
      ]
    },
    {
      "cell_type": "code",
      "execution_count": 26,
      "id": "97bd1089",
      "metadata": {
        "scrolled": true,
        "id": "97bd1089"
      },
      "outputs": [],
      "source": [
        "n = 4\n",
        "h_curve = curve(n,2,1)\n",
        "M = max([h_curve.max_x - h_curve.min_x, h_curve.max_y-h_curve.min_y])\n",
        "im = np.zeros((M+1, 2*M+2, 3), dtype=np.uint8)\n",
        "im[:,:,0] = 255; im[:,:,1] = 255; im[:,:,2] = 255\n",
        "#print(im.shape)\n",
        "#print(h_curve.str)\n",
        "#print(h_curve.points)\n",
        "\n",
        "h_curve.draw(im, 0, M, 0, (0,0,0))\n",
        "h_curve.draw(im, M, M, 2, (0,0,0))\n",
        "\n",
        "k = width // (2*M+2)\n",
        "im = zoom_in (im, k)\n",
        "h, w, c = im.shape\n",
        "img = np.zeros((height, width, 3), dtype=np.uint8)\n",
        "img[:,:,0] = 255; img[:,:,1] = 255; img[:,:,2] = 255\n",
        "\n",
        "dh = (height - h)//2; dw = (width - w)//2\n",
        "img[dh:(dh+h), dw:(dw+w),:] = im\n",
        "\n",
        "#plt.imshow(img)\n",
        "#plt.show()"
      ]
    },
    {
      "cell_type": "code",
      "execution_count": 27,
      "id": "230e965d",
      "metadata": {
        "id": "230e965d"
      },
      "outputs": [],
      "source": [
        "img_count += 1\n",
        "plt.imsave('no+e_photo_gallery_032_'+str(img_count).zfill(3)+'.png', img)"
      ]
    },
    {
      "cell_type": "code",
      "execution_count": 28,
      "id": "2f7d3252",
      "metadata": {
        "id": "2f7d3252"
      },
      "outputs": [],
      "source": [
        "# \"みんなのフォトギャラリー\"の画像サイズ\n",
        "width = 128*12 ; height = 67*12"
      ]
    },
    {
      "cell_type": "code",
      "execution_count": 29,
      "id": "7cf2ac7c",
      "metadata": {
        "scrolled": true,
        "id": "7cf2ac7c"
      },
      "outputs": [],
      "source": [
        "n = 5\n",
        "h_curve = curve(n,2,1)\n",
        "M = max([h_curve.max_x - h_curve.min_x, h_curve.max_y-h_curve.min_y])\n",
        "im = np.zeros((M+1, 2*M+2, 3), dtype=np.uint8)\n",
        "im[:,:,0] = 255; im[:,:,1] = 255; im[:,:,2] = 255\n",
        "#print(im.shape)\n",
        "#print(h_curve.str)\n",
        "#print(h_curve.points)\n",
        "\n",
        "h_curve.draw(im, 0, M, 0, (0,0,0))\n",
        "h_curve.draw(im, M, M, 2, (0,0,0))\n",
        "\n",
        "k = width // (2*M+2)\n",
        "im = zoom_in (im, k)\n",
        "h, w, c = im.shape\n",
        "img = np.zeros((height, width, 3), dtype=np.uint8)\n",
        "img[:,:,0] = 255; img[:,:,1] = 255; img[:,:,2] = 255\n",
        "\n",
        "dh = (height - h)//2; dw = (width - w)//2\n",
        "img[dh:(dh+h), dw:(dw+w),:] = im\n",
        "\n",
        "#plt.imshow(img)\n",
        "#plt.show()"
      ]
    },
    {
      "cell_type": "code",
      "execution_count": 30,
      "id": "309c6235",
      "metadata": {
        "id": "309c6235"
      },
      "outputs": [],
      "source": [
        "img_count += 1\n",
        "plt.imsave('no+e_photo_gallery_032_'+str(img_count).zfill(3)+'.png', img)"
      ]
    },
    {
      "cell_type": "code",
      "execution_count": 31,
      "id": "2435d1e8",
      "metadata": {
        "id": "2435d1e8"
      },
      "outputs": [],
      "source": [
        "# \"みんなのフォトギャラリー\"の画像サイズ\n",
        "width = 128*12 ; height = 67*12"
      ]
    },
    {
      "cell_type": "code",
      "execution_count": 32,
      "id": "2eea634f",
      "metadata": {
        "id": "2eea634f"
      },
      "outputs": [],
      "source": [
        "n = 6\n",
        "h_curve = curve(n,2,1)\n",
        "M = max([h_curve.max_x - h_curve.min_x, h_curve.max_y-h_curve.min_y])\n",
        "im = np.zeros((M+1, 2*M+2, 3), dtype=np.uint8)\n",
        "im[:,:,0] = 255; im[:,:,1] = 255; im[:,:,2] = 255\n",
        "#print(im.shape)\n",
        "#print(h_curve.str)\n",
        "#print(h_curve.points)\n",
        "\n",
        "h_curve.draw(im, 0, M, 0, (0,0,0))\n",
        "h_curve.draw(im, M, M, 2, (0,0,0))\n",
        "\n",
        "k = width // (2*M+2)\n",
        "im = zoom_in (im, k)\n",
        "h, w, c = im.shape\n",
        "img = np.zeros((height, width, 3), dtype=np.uint8)\n",
        "img[:,:,0] = 255; img[:,:,1] = 255; img[:,:,2] = 255\n",
        "\n",
        "dh = (height - h)//2; dw = (width - w)//2\n",
        "img[dh:(dh+h), dw:(dw+w),:] = im\n",
        "\n",
        "#plt.imshow(img)\n",
        "#plt.show()"
      ]
    },
    {
      "cell_type": "code",
      "execution_count": 33,
      "id": "b4277d46",
      "metadata": {
        "id": "b4277d46"
      },
      "outputs": [],
      "source": [
        "img_count += 1\n",
        "plt.imsave('no+e_photo_gallery_032_'+str(img_count).zfill(3)+'.png', img)"
      ]
    },
    {
      "cell_type": "code",
      "execution_count": 34,
      "id": "650bf72b",
      "metadata": {
        "id": "650bf72b"
      },
      "outputs": [],
      "source": [
        "n = 7\n",
        "h_curve = curve(n,2,1)\n",
        "M = max([h_curve.max_x - h_curve.min_x, h_curve.max_y-h_curve.min_y])\n",
        "im = np.zeros((M+1, 2*M+2, 3), dtype=np.uint8)\n",
        "im[:,:,0] = 255; im[:,:,1] = 255; im[:,:,2] = 255\n",
        "#print(im.shape)\n",
        "#print(h_curve.str)\n",
        "#print(h_curve.points)\n",
        "\n",
        "h_curve.draw(im, 0, M, 0, (0,0,0))\n",
        "h_curve.draw(im, M, M, 2, (0,0,0))\n",
        "\n",
        "k = width // (2*M+2)\n",
        "im = zoom_in (im, k)\n",
        "h, w, c = im.shape\n",
        "img = np.zeros((height, width, 3), dtype=np.uint8)\n",
        "img[:,:,0] = 255; img[:,:,1] = 255; img[:,:,2] = 255\n",
        "\n",
        "dh = (height - h)//2; dw = (width - w)//2\n",
        "img[dh:(dh+h), dw:(dw+w),:] = im\n",
        "\n",
        "#plt.imshow(img)\n",
        "#plt.show()"
      ]
    },
    {
      "cell_type": "code",
      "execution_count": 35,
      "id": "ca6c4cef",
      "metadata": {
        "id": "ca6c4cef"
      },
      "outputs": [],
      "source": [
        "img_count += 1\n",
        "plt.imsave('no+e_photo_gallery_032_'+str(img_count).zfill(3)+'.png', img)"
      ]
    },
    {
      "cell_type": "code",
      "execution_count": 36,
      "id": "bd33cbcc",
      "metadata": {
        "id": "bd33cbcc"
      },
      "outputs": [],
      "source": [
        "n = 7\n",
        "h_curve = curve(n,2,1)\n",
        "M = max([h_curve.max_x - h_curve.min_x, h_curve.max_y-h_curve.min_y])\n",
        "im = np.zeros((M+1, 2*M+2, 3), dtype=np.uint8)\n",
        "im[:,:,0] = 10; im[:,:,1] = 10; im[:,:,2] = 10\n",
        "#print(im.shape)\n",
        "#print(h_curve.str)\n",
        "#print(h_curve.points)\n",
        "\n",
        "h_curve.draw(im, 0, M, 0, (255,255,255))\n",
        "h_curve.draw(im, M, M, 2, (255,255,255))\n",
        "\n",
        "k = width // (2*M+2)\n",
        "im = zoom_in (im, k)\n",
        "h, w, c = im.shape\n",
        "img = np.zeros((height, width, 3), dtype=np.uint8)\n",
        "img[:,:,0] = 255; img[:,:,1] = 255; img[:,:,2] = 255\n",
        "\n",
        "dh = (height - h)//2; dw = (width - w)//2\n",
        "img[dh:(dh+h), dw:(dw+w),:] = im\n",
        "\n",
        "#plt.imshow(im)\n",
        "#plt.show()"
      ]
    },
    {
      "cell_type": "code",
      "execution_count": 37,
      "id": "f1cc3b12",
      "metadata": {
        "id": "f1cc3b12"
      },
      "outputs": [],
      "source": [
        "img_count += 1\n",
        "plt.imsave('no+e_photo_gallery_032_'+str(img_count).zfill(3)+'.png', img)"
      ]
    }
  ],
  "metadata": {
    "kernelspec": {
      "display_name": "Python 3 (ipykernel)",
      "language": "python",
      "name": "python3"
    },
    "language_info": {
      "codemirror_mode": {
        "name": "ipython",
        "version": 3
      },
      "file_extension": ".py",
      "mimetype": "text/x-python",
      "name": "python",
      "nbconvert_exporter": "python",
      "pygments_lexer": "ipython3",
      "version": "3.8.12"
    },
    "colab": {
      "provenance": [],
      "include_colab_link": true
    }
  },
  "nbformat": 4,
  "nbformat_minor": 5
}