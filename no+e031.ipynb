{
  "cells": [
    {
      "cell_type": "markdown",
      "metadata": {
        "id": "view-in-github",
        "colab_type": "text"
      },
      "source": [
        "<a href=\"https://colab.research.google.com/github/gifted-clover95/photo-gallery-for-everyone/blob/main/no%2Be031.ipynb\" target=\"_parent\"><img src=\"https://colab.research.google.com/assets/colab-badge.svg\" alt=\"Open In Colab\"/></a>"
      ]
    },
    {
      "cell_type": "code",
      "execution_count": 1,
      "id": "148df787",
      "metadata": {
        "id": "148df787"
      },
      "outputs": [],
      "source": [
        "import matplotlib.pyplot as plt\n",
        "import numpy as np"
      ]
    },
    {
      "cell_type": "code",
      "execution_count": 2,
      "id": "6d18552f",
      "metadata": {
        "id": "6d18552f"
      },
      "outputs": [],
      "source": [
        "class dragon_curve:\n",
        "    def __init__(self, n, prm1 = 2, prm2 =0):\n",
        "        self.n = n\n",
        "        self.prm1 = prm1\n",
        "        self.prm2 = prm2\n",
        "        self.points = self.gen_points (n)\n",
        "        self.color = (0,0,0)\n",
        "        self.x0 = 0\n",
        "        self.y0 = 0\n",
        "        self.direction = 0\n",
        "\n",
        "    # 文字列を生成するための関数\n",
        "    def gen_str(self,n):\n",
        "        retv = 'R'\n",
        "        for i in range(n):\n",
        "            retv = retv + 'R' + retv.translate(str.maketrans({'R':'L','L':'R'}))[::-1]\n",
        "        return retv\n",
        "\n",
        "    # 亀の向きを変える\n",
        "    def L(self,l,d0):\n",
        "        d = (d0-1) % 4\n",
        "        for i in range(self.prm2):\n",
        "            self.F(l,d)\n",
        "            self.F(l,d0)\n",
        "        return d\n",
        "    def R(self,l,d0):\n",
        "        d = (d0+1) % 4\n",
        "        for i in range(self.prm2):\n",
        "            self.F(l,d)\n",
        "            self.F(l,d0)\n",
        "        return d\n",
        "    # 亀を前進させる\n",
        "    def F(self,l, direction):\n",
        "        x = l[-1][0]; y = l[-1][1]\n",
        "        if direction == 0:\n",
        "            l.append([x+1, y  ])\n",
        "        elif direction == 1:\n",
        "            l.append([x  , y+1])\n",
        "        elif direction == 2:\n",
        "            l.append([x-1, y  ])\n",
        "        elif direction == 3:\n",
        "            l.append([x  , y-1])\n",
        "        else:\n",
        "            print(\"F:error\")\n",
        "\n",
        "    # 生成された文字列にしたがって亀を移動させる\n",
        "    def move(self,l,c,direction):\n",
        "        for i in range(self.prm1):\n",
        "            self.F(l,direction)\n",
        "        if c == 'L':\n",
        "            retv = self.L(l,direction)\n",
        "        elif c == 'R':\n",
        "            retv = self.R(l,direction)\n",
        "        else:\n",
        "            print('move:error')\n",
        "        return retv\n",
        "\n",
        "    # 点の座標の生成\n",
        "    def gen_points(self, n):\n",
        "        s = self.gen_str(n)\n",
        "        l = [[0,0]]\n",
        "        d = 0\n",
        "        for c in s:\n",
        "            d = self.move(l,c,d)\n",
        "        for i in range(self.prm1):\n",
        "            self.F(l,d)\n",
        "        n_points = len(l)\n",
        "        x = np.zeros((n_points,2),dtype=int)\n",
        "        for i in range(n_points):\n",
        "            x[i][0] = l[i][0]\n",
        "            x[i][1] = l[i][1]\n",
        "\n",
        "        self.min_x = min(x[:,0])\n",
        "        self.min_y = min(x[:,1])\n",
        "        self.max_x = max(x[:,0])\n",
        "        self.max_y = max(x[:,1])\n",
        "\n",
        "        self.width = self.max_x - self.min_x+1\n",
        "        self.height = self.max_y - self.min_y+1\n",
        "        return x\n",
        "\n",
        "    def draw (self,im, x, y, direction=0, color=(0,0,0)):\n",
        "        dragon.color = color\n",
        "        dragon.direction = direction\n",
        "        dragon.x0 = x\n",
        "        dragon.y0 = y\n",
        "        if self.direction == 0:\n",
        "            for pt in dragon.points:\n",
        "                im[self.x0+pt[0], self.y0+pt[1],0] = self.color[0]\n",
        "                im[self.x0+pt[0], self.y0+pt[1],1] = self.color[1]\n",
        "                im[self.x0+pt[0], self.y0+pt[1],2] = self.color[2]\n",
        "        elif self.direction == 1:\n",
        "            for pt in dragon.points:\n",
        "                im[self.x0-pt[1], self.y0+pt[0],0] = self.color[0]\n",
        "                im[self.x0-pt[1], self.y0+pt[0],1] = self.color[1]\n",
        "                im[self.x0-pt[1], self.y0+pt[0],2] = self.color[2]\n",
        "        elif self.direction == 2:\n",
        "            for pt in dragon.points:\n",
        "                im[self.x0-pt[0], self.y0-pt[1],0] = self.color[0]\n",
        "                im[self.x0-pt[0], self.y0-pt[1],1] = self.color[1]\n",
        "                im[self.x0-pt[0], self.y0-pt[1],2] = self.color[2]\n",
        "        elif self.direction == 3:\n",
        "            for pt in dragon.points:\n",
        "                im[self.x0+pt[1], self.y0-pt[0],0] = self.color[0]\n",
        "                im[self.x0+pt[1], self.y0-pt[0],1] = self.color[1]\n",
        "                im[self.x0+pt[1], self.y0-pt[0],2] = self.color[2]\n"
      ]
    },
    {
      "cell_type": "code",
      "execution_count": 3,
      "id": "a31af9fa",
      "metadata": {
        "id": "a31af9fa"
      },
      "outputs": [],
      "source": [
        "# \"みんなのフォトギャラリー\"の画像サイズ\n",
        "width = 1280 ; height = 670"
      ]
    },
    {
      "cell_type": "code",
      "execution_count": 4,
      "id": "2c3b709d",
      "metadata": {
        "id": "2c3b709d"
      },
      "outputs": [],
      "source": [
        "img_count = 0 # 画像の枚数"
      ]
    },
    {
      "cell_type": "code",
      "execution_count": 5,
      "id": "0c9d6a1e",
      "metadata": {
        "colab": {
          "base_uri": "https://localhost:8080/"
        },
        "id": "0c9d6a1e",
        "outputId": "743e24b0-56b0-4989-db43-5ece3240dccf"
      },
      "outputs": [
        {
          "output_type": "stream",
          "name": "stdout",
          "text": [
            "(1510, 1910, 3)\n"
          ]
        }
      ],
      "source": [
        "n = 8\n",
        "dragon = dragon_curve(n,6,2)\n",
        "M = max([dragon.max_x,dragon.max_y,-dragon.min_x, -dragon.min_y])\n",
        "\n",
        "im = np.zeros((height+4*M,width+3*M, 3), dtype=np.uint8)\n",
        "#im = np.zeros((5*M,5*M, 3), dtype=np.uint8)\n",
        "im[:,:,0] = 255\n",
        "im[:,:,1] = 255\n",
        "im[:,:,2] = 255\n",
        "print(im.shape)\n",
        "\n",
        "nrow = 4\n",
        "ncol = 5\n",
        "\n",
        "X = M; Y = M\n",
        "for i in range(nrow):\n",
        "    for j in range(ncol):\n",
        "        x = X+40*n*i; y = Y+40*n*j\n",
        "        dragon.draw(im, x+2, y, 0, (0,0,0))\n",
        "        dragon.draw(im, x, y+2, 1, (255,0,0))\n",
        "        dragon.draw(im, x-2, y, 2, (0,0,255))\n",
        "        dragon.draw(im, x, y-2, 3, (0,200,0))\n",
        "\n",
        "h ,w, ncol = im.shape\n",
        "w_offset = (w-width)//2\n",
        "h_offset = (h-height)//2\n",
        "im2 = im[h_offset:h_offset+height, w_offset:w_offset+width, :]"
      ]
    },
    {
      "cell_type": "code",
      "source": [
        "img_count += 1\n",
        "plt.imsave('no+e_photo_gallery_031_'+str(img_count).zfill(3)+'.png', im2)"
      ],
      "metadata": {
        "id": "fZ023A2t_cNt"
      },
      "id": "fZ023A2t_cNt",
      "execution_count": 6,
      "outputs": []
    },
    {
      "cell_type": "code",
      "execution_count": 7,
      "id": "37e56797",
      "metadata": {
        "colab": {
          "base_uri": "https://localhost:8080/"
        },
        "id": "37e56797",
        "outputId": "dfe4f25e-70fe-49c6-8158-bb4b13fe1901"
      },
      "outputs": [
        {
          "output_type": "stream",
          "name": "stdout",
          "text": [
            "(2492, 2492, 3)\n"
          ]
        }
      ],
      "source": [
        "n = 7\n",
        "dragon = dragon_curve(n,6,2)\n",
        "M = max([dragon.max_x,dragon.max_y,-dragon.min_x, -dragon.min_y])\n",
        "\n",
        "im = np.zeros((14*M,14*M, 3), dtype=np.uint8)\n",
        "#im = np.zeros((5*M,5*M, 3), dtype=np.uint8)\n",
        "im[:,:,0] = 255\n",
        "im[:,:,1] = 255\n",
        "im[:,:,2] = 255\n",
        "print(im.shape)\n",
        "\n",
        "nrow = 7\n",
        "ncol = 7\n",
        "\n",
        "X = ncol*M; Y = M\n",
        "for i in range(nrow):\n",
        "    for j in range(ncol):\n",
        "        x = X+160*(i-j); y = Y+160*(i+j)\n",
        "        dragon.draw(im, x+2, y, 0, (0,0,0))\n",
        "        dragon.draw(im, x, y+2, 1, (255,0,0))\n",
        "        dragon.draw(im, x-2, y, 2, (0,0,255))\n",
        "        dragon.draw(im, x, y-2, 3, (0,200,0))\n",
        "\n",
        "h ,w, ncol = im.shape\n",
        "w_offset = (w-width)//2\n",
        "h_offset = (h-height)//2\n",
        "im2 = im[h_offset:h_offset+height, w_offset:w_offset+width, :]\n"
      ]
    },
    {
      "cell_type": "code",
      "execution_count": 8,
      "id": "32e0ace3",
      "metadata": {
        "id": "32e0ace3"
      },
      "outputs": [],
      "source": [
        "img_count += 1\n",
        "plt.imsave('no+e_photo_gallery_031_'+str(img_count).zfill(3)+'.png', im2)"
      ]
    },
    {
      "cell_type": "code",
      "execution_count": 9,
      "id": "3449a9d9",
      "metadata": {
        "colab": {
          "base_uri": "https://localhost:8080/"
        },
        "id": "3449a9d9",
        "outputId": "8bfa6606-4269-4aca-a2d7-586fccefd465"
      },
      "outputs": [
        {
          "output_type": "stream",
          "name": "stdout",
          "text": [
            "(1070, 1580, 3)\n"
          ]
        }
      ],
      "source": [
        "n = 6\n",
        "dragon = dragon_curve(n,6,2)\n",
        "M = max([dragon.max_x,dragon.max_y,-dragon.min_x, -dragon.min_y])\n",
        "\n",
        "im = np.zeros((height+4*M,width+3*M, 3), dtype=np.uint8)\n",
        "#im = np.zeros((5*M,5*M, 3), dtype=np.uint8)\n",
        "im[:,:,0] = 255\n",
        "im[:,:,1] = 255\n",
        "im[:,:,2] = 255\n",
        "print(im.shape)\n",
        "\n",
        "nrow = 6\n",
        "ncol = 9\n",
        "X = M; Y = M\n",
        "for i in range(nrow):\n",
        "    for j in range(ncol):\n",
        "        x = X+160*i; y = Y+160*j\n",
        "        dragon.draw(im, x+2, y, 0, (0,0,0))\n",
        "        dragon.draw(im, x, y+2, 1, (255,0,0))\n",
        "        dragon.draw(im, x-2, y, 2, (0,0,255))\n",
        "        dragon.draw(im, x, y-2, 3, (0,200,0))\n",
        "\n",
        "h ,w, ncol = im.shape\n",
        "w_offset = (w-width)//2\n",
        "h_offset = (h-height)//2\n",
        "im2 = im[h_offset:h_offset+height, w_offset:w_offset+width, :]\n",
        "\n"
      ]
    },
    {
      "cell_type": "code",
      "execution_count": 10,
      "id": "eecd000c",
      "metadata": {
        "id": "eecd000c"
      },
      "outputs": [],
      "source": [
        "img_count += 1\n",
        "plt.imsave('no+e_photo_gallery_031_'+str(img_count).zfill(3)+'.png', im2)"
      ]
    },
    {
      "cell_type": "code",
      "execution_count": 11,
      "id": "b1a34dde",
      "metadata": {
        "colab": {
          "base_uri": "https://localhost:8080/"
        },
        "id": "b1a34dde",
        "outputId": "78a5cb22-7fb1-4df6-ee91-623980ad6533"
      },
      "outputs": [
        {
          "output_type": "stream",
          "name": "stdout",
          "text": [
            "(2700, 2700, 3)\n"
          ]
        }
      ],
      "source": [
        "n = 5\n",
        "dragon = dragon_curve(n,6,2)\n",
        "M = max([dragon.max_x,dragon.max_y,-dragon.min_x, -dragon.min_y])\n",
        "\n",
        "im = np.zeros((30*M,30*M, 3), dtype=np.uint8)\n",
        "#im = np.zeros((5*M,5*M, 3), dtype=np.uint8)\n",
        "im[:,:,0] = 255\n",
        "im[:,:,1] = 255\n",
        "im[:,:,2] = 255\n",
        "print(im.shape)\n",
        "\n",
        "nrow = 15\n",
        "ncol = 15\n",
        "\n",
        "X = ncol*M; Y = M\n",
        "for i in range(nrow):\n",
        "    for j in range(ncol):\n",
        "        x = X+80*(i-j); y = Y+80*(i+j)\n",
        "        dragon.draw(im, x+2, y, 0, (0,0,0))\n",
        "        dragon.draw(im, x, y+2, 1, (255,0,0))\n",
        "        dragon.draw(im, x-2, y, 2, (0,0,255))\n",
        "        dragon.draw(im, x, y-2, 3, (0,200,0))\n",
        "\n",
        "h ,w, ncol = im.shape\n",
        "w_offset = (w-width)//2\n",
        "h_offset = (h-height)//2\n",
        "im2 = im[h_offset:h_offset+height, w_offset:w_offset+width, :]\n",
        "\n"
      ]
    },
    {
      "cell_type": "code",
      "execution_count": 12,
      "id": "208cdc2e",
      "metadata": {
        "id": "208cdc2e"
      },
      "outputs": [],
      "source": [
        "img_count += 1\n",
        "plt.imsave('no+e_photo_gallery_031_'+str(img_count).zfill(3)+'.png', im2)"
      ]
    },
    {
      "cell_type": "code",
      "execution_count": 13,
      "id": "d4e71426",
      "metadata": {
        "scrolled": true,
        "colab": {
          "base_uri": "https://localhost:8080/"
        },
        "id": "d4e71426",
        "outputId": "ba76e0ee-851d-4b25-8d75-4ad4ee35ffca"
      },
      "outputs": [
        {
          "output_type": "stream",
          "name": "stdout",
          "text": [
            "(774, 1384, 3)\n"
          ]
        }
      ],
      "source": [
        "n = 4\n",
        "dragon = dragon_curve(n,6,2)\n",
        "M = max([dragon.max_x,dragon.max_y,-dragon.min_x, -dragon.min_y])\n",
        "\n",
        "im = np.zeros((height+2*M,width+2*M, 3), dtype=np.uint8)\n",
        "im[:,:,0] = 255\n",
        "im[:,:,1] = 255\n",
        "im[:,:,2] = 255\n",
        "print(im.shape)\n",
        "\n",
        "nrow = 9\n",
        "ncol = 17\n",
        "\n",
        "X = M; Y = M\n",
        "for i in range(nrow):\n",
        "    for j in range(ncol):\n",
        "        x = X+20*n*i; y = Y+20*n*j\n",
        "        dragon.draw(im, x+2, y, 0, (0,0,0))\n",
        "        dragon.draw(im, x, y+2, 1, (255,0,0))\n",
        "        dragon.draw(im, x-2, y, 2, (0,0,255))\n",
        "        dragon.draw(im, x, y-2, 3, (0,200,0))\n",
        "\n",
        "h ,w, ncol = im.shape\n",
        "w_offset = (w-width)//2\n",
        "h_offset = (h-height)//2\n",
        "im2 = im[h_offset:h_offset+height, w_offset:w_offset+width, :]\n",
        "\n",
        "\n"
      ]
    },
    {
      "cell_type": "code",
      "execution_count": 14,
      "id": "f0ad3e92",
      "metadata": {
        "id": "f0ad3e92"
      },
      "outputs": [],
      "source": [
        "img_count += 1\n",
        "plt.imsave('no+e_photo_gallery_031_'+str(img_count).zfill(3)+'.png', im2)"
      ]
    },
    {
      "cell_type": "code",
      "execution_count": 15,
      "id": "1b1ec696",
      "metadata": {
        "colab": {
          "base_uri": "https://localhost:8080/"
        },
        "id": "1b1ec696",
        "outputId": "75ccdef6-50d3-4de7-f6cf-4d8395300835"
      },
      "outputs": [
        {
          "output_type": "stream",
          "name": "stdout",
          "text": [
            "(2100, 2100, 3)\n"
          ]
        }
      ],
      "source": [
        "n = 3\n",
        "dragon = dragon_curve(n,6,2)\n",
        "M = max([dragon.max_x,dragon.max_y,-dragon.min_x, -dragon.min_y])\n",
        "\n",
        "im = np.zeros((50*M,50*M, 3), dtype=np.uint8)\n",
        "im[:,:,0] = 255\n",
        "im[:,:,1] = 255\n",
        "im[:,:,2] = 255\n",
        "print(im.shape)\n",
        "\n",
        "nrow = 25\n",
        "ncol = 25\n",
        "\n",
        "X = ncol*M; Y = M\n",
        "for i in range(nrow):\n",
        "    for j in range(ncol):\n",
        "        x = X+40*(i-j); y = Y+40*(i+j)\n",
        "        dragon.draw(im, x+2, y, 0, (0,0,0))\n",
        "        dragon.draw(im, x, y+2, 1, (255,0,0))\n",
        "        dragon.draw(im, x-2, y, 2, (0,0,255))\n",
        "        dragon.draw(im, x, y-2, 3, (0,200,0))\n",
        "\n",
        "h ,w, ncol = im.shape\n",
        "w_offset = (w-width)//2\n",
        "h_offset = (h-height)//2\n",
        "im2 = im[h_offset:h_offset+height, w_offset:w_offset+width, :]\n",
        "\n",
        "\n"
      ]
    },
    {
      "cell_type": "code",
      "execution_count": 16,
      "id": "95abb245",
      "metadata": {
        "id": "95abb245"
      },
      "outputs": [],
      "source": [
        "img_count += 1\n",
        "plt.imsave('no+e_photo_gallery_031_'+str(img_count).zfill(3)+'.png', im2)"
      ]
    },
    {
      "cell_type": "code",
      "execution_count": 17,
      "id": "fcd4bbbb",
      "metadata": {
        "scrolled": false,
        "colab": {
          "base_uri": "https://localhost:8080/"
        },
        "id": "fcd4bbbb",
        "outputId": "8d81bc3e-8050-4a76-c331-9940143cf5f0"
      },
      "outputs": [
        {
          "output_type": "stream",
          "name": "stdout",
          "text": [
            "(736, 1346, 3)\n"
          ]
        }
      ],
      "source": [
        "n = 2\n",
        "dragon = dragon_curve(n,6,2)\n",
        "M = max([dragon.max_x,dragon.max_y,-dragon.min_x, -dragon.min_y])\n",
        "\n",
        "im = np.zeros((height+3*M,width+3*M, 3), dtype=np.uint8)\n",
        "#im = np.zeros((5*M,5*M, 3), dtype=np.uint8)\n",
        "im[:,:,0] = 255\n",
        "im[:,:,1] = 255\n",
        "im[:,:,2] = 255\n",
        "print(im.shape)\n",
        "\n",
        "nrow = 18\n",
        "ncol = 33\n",
        "\n",
        "X = M; Y = M\n",
        "for i in range(nrow):\n",
        "    for j in range(ncol):\n",
        "        x = X+ 40 *i; y = Y+40 *j\n",
        "        dragon.draw(im, x+2, y, 0, (0,0,0))\n",
        "        dragon.draw(im, x, y+2, 1, (255,0,0))\n",
        "        dragon.draw(im, x-2, y, 2, (0,0,255))\n",
        "        dragon.draw(im, x, y-2, 3, (0,200,0))\n",
        "\n",
        "h ,w, ncol = im.shape\n",
        "w_offset = (w-width)//2\n",
        "h_offset = (h-height)//2\n",
        "im2 = im[h_offset:h_offset+height, w_offset:w_offset+width, :]\n",
        "\n"
      ]
    },
    {
      "cell_type": "code",
      "execution_count": 18,
      "id": "917525cc",
      "metadata": {
        "id": "917525cc"
      },
      "outputs": [],
      "source": [
        "img_count += 1\n",
        "plt.imsave('no+e_photo_gallery_031_'+str(img_count).zfill(3)+'.png', im2)"
      ]
    },
    {
      "cell_type": "code",
      "execution_count": 19,
      "id": "f2f99216",
      "metadata": {
        "colab": {
          "base_uri": "https://localhost:8080/"
        },
        "id": "f2f99216",
        "outputId": "5548e5a7-1d40-43cc-b507-e7170c1e88c0"
      },
      "outputs": [
        {
          "output_type": "stream",
          "name": "stdout",
          "text": [
            "(2880, 2880, 3)\n"
          ]
        }
      ],
      "source": [
        "n = 1\n",
        "dragon = dragon_curve(n,6,2)\n",
        "M = max([dragon.max_x,dragon.max_y,-dragon.min_x, -dragon.min_y])\n",
        "\n",
        "im = np.zeros((160*M,160*M, 3), dtype=np.uint8)\n",
        "im[:,:,0] = 255\n",
        "im[:,:,1] = 255\n",
        "im[:,:,2] = 255\n",
        "print(im.shape)\n",
        "\n",
        "nrow = 70\n",
        "ncol = 70\n",
        "\n",
        "X = ncol*M; Y = M\n",
        "for i in range(nrow):\n",
        "    for j in range(ncol):\n",
        "        x = X+20*(i-j); y = Y+20*(i+j)\n",
        "        dragon.draw(im, x+2, y, 0, (0,0,0))\n",
        "        dragon.draw(im, x, y+2, 1, (255,0,0))\n",
        "        dragon.draw(im, x-2, y, 2, (0,0,255))\n",
        "        dragon.draw(im, x, y-2, 3, (0,200,0))\n",
        "\n",
        "h ,w, ncol = im.shape\n",
        "w_offset = (w-width)//2\n",
        "h_offset = (h-height)//2\n",
        "im2 = im[h_offset:h_offset+height, w_offset:w_offset+width, :]\n",
        "\n"
      ]
    },
    {
      "cell_type": "code",
      "execution_count": 20,
      "id": "fbcb1946",
      "metadata": {
        "id": "fbcb1946"
      },
      "outputs": [],
      "source": [
        "img_count += 1\n",
        "plt.imsave('no+e_photo_gallery_031_'+str(img_count).zfill(3)+'.png', im2)"
      ]
    },
    {
      "cell_type": "code",
      "execution_count": 21,
      "id": "7c77efb4",
      "metadata": {
        "id": "7c77efb4"
      },
      "outputs": [],
      "source": [
        "def zoom_in (img, n):\n",
        "    s1, s2, ncol = img.shape\n",
        "    retv = np.zeros((s1*n,s2*n,ncol), dtype=np.uint8)\n",
        "    block = np.ones((n,n))\n",
        "    for i in range(s1):\n",
        "        for j in range(s2):\n",
        "            for k in range(ncol):\n",
        "                retv[i*n:(i+1)*n, j*n:(j+1)*n,k] = img[i][j][k] * block\n",
        "    return retv\n"
      ]
    },
    {
      "cell_type": "code",
      "execution_count": 22,
      "id": "9ee290fa",
      "metadata": {
        "colab": {
          "base_uri": "https://localhost:8080/"
        },
        "id": "9ee290fa",
        "outputId": "4950c4ff-ae9a-45ed-84d6-fcedaf692cc3"
      },
      "outputs": [
        {
          "output_type": "stream",
          "name": "stdout",
          "text": [
            "(900, 900, 3)\n"
          ]
        }
      ],
      "source": [
        "n = 5\n",
        "dragon = dragon_curve(n,6,2)\n",
        "M = max([dragon.max_x,dragon.max_y,-dragon.min_x, -dragon.min_y])\n",
        "\n",
        "im = np.zeros((10*M,10*M, 3), dtype=np.uint8)\n",
        "#im = np.zeros((5*M,5*M, 3), dtype=np.uint8)\n",
        "im[:,:,0] = 255\n",
        "im[:,:,1] = 255\n",
        "im[:,:,2] = 255\n",
        "print(im.shape)\n",
        "\n",
        "nrow = 5\n",
        "ncol = 5\n",
        "\n",
        "X = ncol*M; Y = M\n",
        "for i in range(nrow):\n",
        "    for j in range(ncol):\n",
        "        x = X+80*(i-j); y = Y+80*(i+j)\n",
        "        dragon.draw(im, x+2, y, 0, (0,0,0))\n",
        "        dragon.draw(im, x, y+2, 1, (255,0,0))\n",
        "        dragon.draw(im, x-2, y, 2, (0,0,255))\n",
        "        dragon.draw(im, x, y-2, 3, (0,200,0))\n",
        "\n",
        "im1 = zoom_in(im, 3)\n",
        "\n",
        "h ,w, ncol = im1.shape\n",
        "w_offset = (w-width)//2\n",
        "h_offset = (h-height)//2\n",
        "im2 = im1[h_offset:h_offset+height, w_offset:w_offset+width, :]\n"
      ]
    },
    {
      "cell_type": "code",
      "execution_count": 23,
      "id": "06988899",
      "metadata": {
        "id": "06988899"
      },
      "outputs": [],
      "source": [
        "img_count += 1\n",
        "plt.imsave('no+e_photo_gallery_031_'+str(img_count).zfill(3)+'.png', im2)"
      ]
    },
    {
      "cell_type": "code",
      "execution_count": 24,
      "id": "d2f453e6",
      "metadata": {
        "scrolled": false,
        "colab": {
          "base_uri": "https://localhost:8080/"
        },
        "id": "d2f453e6",
        "outputId": "adc10be5-2141-4ce2-e688-982da70cd383"
      },
      "outputs": [
        {
          "output_type": "stream",
          "name": "stdout",
          "text": [
            "(520, 520, 3)\n"
          ]
        }
      ],
      "source": [
        "n = 4\n",
        "dragon = dragon_curve(n,6,2)\n",
        "M = max([dragon.max_x,dragon.max_y,-dragon.min_x, -dragon.min_y])\n",
        "\n",
        "im = np.zeros((10*M,10*M, 3), dtype=np.uint8)\n",
        "im[:,:,0] = 255\n",
        "im[:,:,1] = 255\n",
        "im[:,:,2] = 255\n",
        "print(im.shape)\n",
        "\n",
        "nrow = 5\n",
        "ncol = 6\n",
        "\n",
        "X = M; Y = M\n",
        "for i in range(nrow):\n",
        "    for j in range(ncol):\n",
        "        x = X+20*n*i; y = Y+20*n*j\n",
        "        dragon.draw(im, x+2, y, 0, (0,0,0))\n",
        "        dragon.draw(im, x, y+2, 1, (255,0,0))\n",
        "        dragon.draw(im, x-2, y, 2, (0,0,255))\n",
        "        dragon.draw(im, x, y-2, 3, (0,200,0))\n",
        "\n",
        "im1 = zoom_in(im, 3)\n",
        "\n",
        "h ,w, ncol = im1.shape\n",
        "w_offset = (w-width)//2\n",
        "h_offset = (h-height)//2\n",
        "im2 = im1[h_offset:h_offset+height, w_offset:w_offset+width, :]\n",
        "\n"
      ]
    },
    {
      "cell_type": "code",
      "execution_count": 25,
      "id": "8c5c1574",
      "metadata": {
        "id": "8c5c1574"
      },
      "outputs": [],
      "source": [
        "img_count += 1\n",
        "plt.imsave('no+e_photo_gallery_031_'+str(img_count).zfill(3)+'.png', im2)"
      ]
    },
    {
      "cell_type": "code",
      "execution_count": 26,
      "id": "6354fba5",
      "metadata": {
        "scrolled": true,
        "colab": {
          "base_uri": "https://localhost:8080/"
        },
        "id": "6354fba5",
        "outputId": "f23957f3-07e6-400d-b672-33517e0af6b1"
      },
      "outputs": [
        {
          "output_type": "stream",
          "name": "stdout",
          "text": [
            "(2520, 2520, 3)\n"
          ]
        }
      ],
      "source": [
        "n = 3\n",
        "dragon = dragon_curve(n,6,2)\n",
        "M = max([dragon.max_x,dragon.max_y,-dragon.min_x, -dragon.min_y])\n",
        "\n",
        "im = np.zeros((20*M,20*M, 3), dtype=np.uint8)\n",
        "im[:,:,0] = 255\n",
        "im[:,:,1] = 255\n",
        "im[:,:,2] = 255\n",
        "\n",
        "nrow = 10\n",
        "ncol = 10\n",
        "\n",
        "X = ncol*M; Y = M\n",
        "for i in range(nrow):\n",
        "    for j in range(ncol):\n",
        "        x = X+40*(i-j); y = Y+40*(i+j)\n",
        "        dragon.draw(im, x+2, y, 0, (0,0,0))\n",
        "        dragon.draw(im, x, y+2, 1, (255,0,0))\n",
        "        dragon.draw(im, x-2, y, 2, (0,0,255))\n",
        "        dragon.draw(im, x, y-2, 3, (0,200,0))\n",
        "\n",
        "im1 = zoom_in(im, 3)\n",
        "print(im1.shape)\n",
        "\n",
        "h ,w, ncol = im1.shape\n",
        "w_offset = (w-width)//2\n",
        "h_offset = (h-height)//2\n",
        "im2 = im1[h_offset:h_offset+height, w_offset:w_offset+width, :]\n",
        "\n",
        "\n"
      ]
    },
    {
      "cell_type": "code",
      "execution_count": 27,
      "id": "385d7680",
      "metadata": {
        "id": "385d7680"
      },
      "outputs": [],
      "source": [
        "img_count += 1\n",
        "plt.imsave('no+e_photo_gallery_031_'+str(img_count).zfill(3)+'.png', im2)"
      ]
    },
    {
      "cell_type": "code",
      "execution_count": 28,
      "id": "197e8bb0",
      "metadata": {
        "scrolled": true,
        "colab": {
          "base_uri": "https://localhost:8080/"
        },
        "id": "197e8bb0",
        "outputId": "fd15908b-121a-4bf1-fa84-9b87018a198e"
      },
      "outputs": [
        {
          "output_type": "stream",
          "name": "stdout",
          "text": [
            "(1320, 1452, 3)\n"
          ]
        }
      ],
      "source": [
        "n = 2\n",
        "dragon = dragon_curve(n,6,2)\n",
        "M = max([dragon.max_x,dragon.max_y,-dragon.min_x, -dragon.min_y])\n",
        "\n",
        "im = np.zeros((20*M,22*M, 3), dtype=np.uint8)\n",
        "im[:,:,0] = 255\n",
        "im[:,:,1] = 255\n",
        "im[:,:,2] = 255\n",
        "\n",
        "nrow = 10\n",
        "ncol = 12\n",
        "\n",
        "X = M; Y = M\n",
        "for i in range(nrow):\n",
        "    for j in range(ncol):\n",
        "        x = X+ 40 *i; y = Y+40 *j\n",
        "        dragon.draw(im, x+2, y, 0, (0,0,0))\n",
        "        dragon.draw(im, x, y+2, 1, (255,0,0))\n",
        "        dragon.draw(im, x-2, y, 2, (0,0,255))\n",
        "        dragon.draw(im, x, y-2, 3, (0,200,0))\n",
        "\n",
        "im1 = zoom_in(im, 3)\n",
        "print(im1.shape)\n",
        "\n",
        "h ,w, ncol = im1.shape\n",
        "w_offset = (w-width)//2\n",
        "h_offset = (h-height)//2\n",
        "im2 = im1[h_offset:h_offset+height, w_offset:w_offset+width, :]\n"
      ]
    },
    {
      "cell_type": "code",
      "execution_count": 29,
      "id": "ae47c1e5",
      "metadata": {
        "id": "ae47c1e5"
      },
      "outputs": [],
      "source": [
        "img_count += 1\n",
        "plt.imsave('no+e_photo_gallery_031_'+str(img_count).zfill(3)+'.png', im2)"
      ]
    },
    {
      "cell_type": "code",
      "execution_count": 30,
      "id": "12eb684a",
      "metadata": {
        "colab": {
          "base_uri": "https://localhost:8080/"
        },
        "id": "12eb684a",
        "outputId": "a8381c1a-e89b-40ef-cc61-127dc00b8875"
      },
      "outputs": [
        {
          "output_type": "stream",
          "name": "stdout",
          "text": [
            "(1080, 1080, 3)\n",
            "(3240, 3240, 3)\n"
          ]
        }
      ],
      "source": [
        "n = 1\n",
        "dragon = dragon_curve(n,6,2)\n",
        "M = max([dragon.max_x,dragon.max_y,-dragon.min_x, -dragon.min_y])\n",
        "\n",
        "im = np.zeros((60*M,60*M, 3), dtype=np.uint8)\n",
        "im[:,:,0] = 255\n",
        "im[:,:,1] = 255\n",
        "im[:,:,2] = 255\n",
        "print(im.shape)\n",
        "\n",
        "nrow = 25\n",
        "ncol = 25\n",
        "\n",
        "X = ncol*M; Y = M\n",
        "for i in range(nrow):\n",
        "    for j in range(ncol):\n",
        "        x = X+20*(i-j); y = Y+20*(i+j)\n",
        "        dragon.draw(im, x+2, y, 0, (0,0,0))\n",
        "        dragon.draw(im, x, y+2, 1, (255,0,0))\n",
        "        dragon.draw(im, x-2, y, 2, (0,0,255))\n",
        "        dragon.draw(im, x, y-2, 3, (0,200,0))\n",
        "\n",
        "im1 = zoom_in(im, 3)\n",
        "print(im1.shape)\n",
        "\n",
        "h ,w, ncol = im1.shape\n",
        "w_offset = (w-width)//2\n",
        "h_offset = (h-height)//2\n",
        "im2 = im1[h_offset:h_offset+height, w_offset:w_offset+width, :]\n",
        "\n",
        "\n"
      ]
    },
    {
      "cell_type": "code",
      "execution_count": 31,
      "id": "42109f63",
      "metadata": {
        "id": "42109f63"
      },
      "outputs": [],
      "source": [
        "img_count += 1\n",
        "plt.imsave('no+e_photo_gallery_031_'+str(img_count).zfill(3)+'.png', im2)"
      ]
    }
  ],
  "metadata": {
    "kernelspec": {
      "display_name": "Python 3 (ipykernel)",
      "language": "python",
      "name": "python3"
    },
    "language_info": {
      "codemirror_mode": {
        "name": "ipython",
        "version": 3
      },
      "file_extension": ".py",
      "mimetype": "text/x-python",
      "name": "python",
      "nbconvert_exporter": "python",
      "pygments_lexer": "ipython3",
      "version": "3.8.12"
    },
    "colab": {
      "provenance": [],
      "include_colab_link": true
    }
  },
  "nbformat": 4,
  "nbformat_minor": 5
}