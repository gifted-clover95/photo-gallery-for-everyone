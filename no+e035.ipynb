{
  "cells": [
    {
      "cell_type": "markdown",
      "metadata": {
        "id": "view-in-github",
        "colab_type": "text"
      },
      "source": [
        "<a href=\"https://colab.research.google.com/github/gifted-clover95/photo-gallery-for-everyone/blob/main/no%2Be035.ipynb\" target=\"_parent\"><img src=\"https://colab.research.google.com/assets/colab-badge.svg\" alt=\"Open In Colab\"/></a>"
      ]
    },
    {
      "cell_type": "code",
      "execution_count": 1,
      "id": "148df787",
      "metadata": {
        "id": "148df787"
      },
      "outputs": [],
      "source": [
        "import matplotlib.pyplot as plt\n",
        "import numpy as np"
      ]
    },
    {
      "cell_type": "code",
      "execution_count": 2,
      "id": "2079ee98",
      "metadata": {
        "id": "2079ee98"
      },
      "outputs": [],
      "source": [
        "class photo_gallery_for_everyone :\n",
        "    def __init__(self, file_name):\n",
        "        self.file_name = file_name\n",
        "        self.count = 0\n",
        "        self.height = 670\n",
        "        self.width = 1280\n",
        "        self.img = np.ones((self.height, self.width, 3), dtype=np.uint8) * 255\n",
        "        self.origin = (self.height, self.width)\n",
        "        self.scale = 1.0\n",
        "\n",
        "    def set_origin_center(self):\n",
        "        self.origin = (self.height//2, self.width//2)\n",
        "\n",
        "    def show(self,im = 0):\n",
        "        if type(im) != np.ndarray:\n",
        "            im = self.img\n",
        "        #plt.imshow(im)\n",
        "        #plt.show()\n",
        "        self.count += 1\n",
        "        plt.imsave(self.file_name + str(self.count).zfill(3) + '.png', im)\n"
      ]
    },
    {
      "cell_type": "code",
      "execution_count": 3,
      "id": "b81c1279",
      "metadata": {
        "id": "b81c1279"
      },
      "outputs": [],
      "source": [
        "def line (img, p, r, th, color=(0,0,0)):\n",
        "    n = int(r) + 1\n",
        "    sin_th = np.sin(th)\n",
        "    cos_th = np.cos(th)\n",
        "    for r0 in np.linspace(0,r,n):\n",
        "        x = int(p[0]+r0*cos_th)\n",
        "        y = int(p[1]+r0*sin_th)\n",
        "        img[x, y, 0] =  color[0]\n",
        "        img[x, y, 1] =  color[1]\n",
        "        img[x, y, 2] =  color[2]"
      ]
    },
    {
      "cell_type": "code",
      "execution_count": 4,
      "id": "a08049ca",
      "metadata": {
        "id": "a08049ca"
      },
      "outputs": [],
      "source": [
        "photo_gallery = photo_gallery_for_everyone('no+e_photo_gallery_035_')"
      ]
    },
    {
      "cell_type": "code",
      "execution_count": 5,
      "id": "abcf5c9d",
      "metadata": {
        "id": "abcf5c9d"
      },
      "outputs": [],
      "source": [
        "def three_branches_tree (img, p, r, th, alpha, color=(0,0,0)):\n",
        "    if r < 0.5:\n",
        "        return\n",
        "\n",
        "    line(img, p, r, th, color)\n",
        "    q = p + r * np.array([np.cos(th), np.sin(th)])\n",
        "    three_branches_tree(img, q, 0.5*r, th+alpha, alpha, color)\n",
        "    three_branches_tree(img, q, 0.5*r, th, alpha, color)\n",
        "    three_branches_tree(img, q, 0.5*r, th-alpha, alpha, color)\n",
        "    return"
      ]
    },
    {
      "cell_type": "code",
      "execution_count": 6,
      "id": "3e669d78",
      "metadata": {
        "id": "3e669d78"
      },
      "outputs": [],
      "source": [
        "r = 100\n",
        "init_th = np.pi\n",
        "th = 0.5 * np.pi\n",
        "img = np.ones((4*r+1, 5*r+1, 3), dtype=np.uint8) * 255\n",
        "img[:,:,:] = 50\n",
        "\n",
        "p = np.array([2*r, 3*r])\n",
        "three_branches_tree(img, p, r, init_th, th, (0,255,0))\n",
        "p = np.array([3*r, 2*r])\n",
        "three_branches_tree(img, p, r, init_th, th, (0,255,0))\n",
        "p = np.array([3*r, 4*r])\n",
        "three_branches_tree(img, p, r, init_th, th, (0,255,0))\n",
        "p = np.array([4*r, 3*r])\n",
        "three_branches_tree(img, p, r, init_th, th, (0,255,0))\n",
        "\n",
        "#photo_gallery.show(img)\n",
        "\n",
        "tmp = img [r:3*r,2*r:4*r, :]\n",
        "img = tmp\n",
        "#photo_gallery.show(img)\n",
        "\n",
        "n = photo_gallery.height // (2*r) + 1\n",
        "m = photo_gallery.width // (2*r) + 1\n",
        "h = 2*r*n; w = 2*r*m\n",
        "im = np.zeros((h, w, 3), dtype=np.uint8)\n",
        "im [:,:,0] = 255\n",
        "\n",
        "for i in range(n):\n",
        "    for j in range(m):\n",
        "        im[2*r*i:2*r*(i+1),2*r*j:2*r*(j+1),:] = img\n",
        "#photo_gallery.show(im)\n",
        "\n",
        "offset_h = int(0.5 * (h - photo_gallery.height))\n",
        "offset_w = int(0.5 * (w - photo_gallery.width))\n",
        "photo_gallery.img = im[offset_h:offset_h+photo_gallery.height, offset_w:offset_w+photo_gallery.width]\n",
        "\n",
        "photo_gallery.show()"
      ]
    },
    {
      "cell_type": "code",
      "execution_count": 7,
      "id": "3f67807d",
      "metadata": {
        "id": "3f67807d"
      },
      "outputs": [],
      "source": [
        "p = np.array([photo_gallery.height-1, 0.5*photo_gallery.width])\n",
        "r = int(0.5 * photo_gallery.height)\n",
        "init_th = np.pi\n",
        "th = 0.5 * np.pi\n",
        "\n",
        "photo_gallery.img[:, :, :] = 255\n",
        "three_branches_tree(photo_gallery.img, p, r, init_th, th)\n",
        "\n",
        "photo_gallery.show()"
      ]
    },
    {
      "cell_type": "code",
      "execution_count": 8,
      "id": "6529367d",
      "metadata": {
        "id": "6529367d"
      },
      "outputs": [],
      "source": [
        "p = np.array([photo_gallery.height-1, 0.5*photo_gallery.width])\n",
        "r = int(0.5 * photo_gallery.height)\n",
        "init_th = np.pi\n",
        "th = 0.3333333333 * np.pi\n",
        "\n",
        "photo_gallery.img[:, :, :] = 255\n",
        "three_branches_tree(photo_gallery.img, p, r, init_th, th)\n",
        "\n",
        "photo_gallery.show()"
      ]
    },
    {
      "cell_type": "code",
      "execution_count": 9,
      "id": "81384708",
      "metadata": {
        "scrolled": true,
        "id": "81384708"
      },
      "outputs": [],
      "source": [
        "p = np.array([photo_gallery.height-1, 0.5*photo_gallery.width])\n",
        "r = int(0.5 * photo_gallery.height)\n",
        "init_th = np.pi\n",
        "th = 0.66666666 * np.pi\n",
        "\n",
        "photo_gallery.img[:, :, :] = 255\n",
        "three_branches_tree(photo_gallery.img, p, r, init_th, th)\n",
        "\n",
        "photo_gallery.show()"
      ]
    },
    {
      "cell_type": "code",
      "execution_count": 10,
      "id": "df7eff7b",
      "metadata": {
        "scrolled": true,
        "id": "df7eff7b"
      },
      "outputs": [],
      "source": [
        "n = 9\n",
        "th1 = 0.1 * np.pi\n",
        "th2 = 0.9 * np.pi\n",
        "for th in np.linspace(th1, th2 ,n):\n",
        "    p = np.array([photo_gallery.height-1, 0.5*photo_gallery.width])\n",
        "    r = int(0.5 * photo_gallery.height)\n",
        "    init_th = np.pi\n",
        "\n",
        "    photo_gallery.img[:, :, :] = 0\n",
        "    three_branches_tree(photo_gallery.img, p, r, init_th, th, (0,255,0))\n",
        "\n",
        "    photo_gallery.show()"
      ]
    }
  ],
  "metadata": {
    "kernelspec": {
      "display_name": "Python 3 (ipykernel)",
      "language": "python",
      "name": "python3"
    },
    "language_info": {
      "codemirror_mode": {
        "name": "ipython",
        "version": 3
      },
      "file_extension": ".py",
      "mimetype": "text/x-python",
      "name": "python",
      "nbconvert_exporter": "python",
      "pygments_lexer": "ipython3",
      "version": "3.8.12"
    },
    "colab": {
      "provenance": [],
      "include_colab_link": true
    }
  },
  "nbformat": 4,
  "nbformat_minor": 5
}