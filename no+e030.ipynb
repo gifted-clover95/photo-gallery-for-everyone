{
  "cells": [
    {
      "cell_type": "markdown",
      "metadata": {
        "id": "view-in-github",
        "colab_type": "text"
      },
      "source": [
        "<a href=\"https://colab.research.google.com/github/gifted-clover95/photo-gallery-for-everyone/blob/main/no%2Be030.ipynb\" target=\"_parent\"><img src=\"https://colab.research.google.com/assets/colab-badge.svg\" alt=\"Open In Colab\"/></a>"
      ]
    },
    {
      "cell_type": "code",
      "execution_count": 23,
      "id": "148df787",
      "metadata": {
        "id": "148df787"
      },
      "outputs": [],
      "source": [
        "import matplotlib.pyplot as plt\n",
        "import numpy as np"
      ]
    },
    {
      "cell_type": "code",
      "execution_count": 24,
      "id": "6d18552f",
      "metadata": {
        "id": "6d18552f"
      },
      "outputs": [],
      "source": [
        "class dragon_curve:\n",
        "    def __init__(self, n, prm1 = 2, prm2 =0):\n",
        "        self.n = n\n",
        "        self.prm1 = prm1\n",
        "        self.prm2 = prm2\n",
        "        self.pt = self.gen_points (n)\n",
        "        self.points = self.pt\n",
        "        self.x0 = 0\n",
        "        self.y0 = 0\n",
        "\n",
        "    # 文字列を生成するための関数\n",
        "    def gen_str(self,n):\n",
        "        retv = 'R'\n",
        "        for i in range(n):\n",
        "            retv = retv + 'R' + retv.translate(str.maketrans({'R':'L','L':'R'}))[::-1]\n",
        "        return retv\n",
        "\n",
        "    # 亀の向きを変える\n",
        "    def L(self,l,d0):\n",
        "        d = (d0-1) % 4\n",
        "        for i in range(self.prm2):\n",
        "            self.F(l,d)\n",
        "            self.F(l,d0)\n",
        "        return d\n",
        "    def R(self,l,d0):\n",
        "        d = (d0+1) % 4\n",
        "        for i in range(self.prm2):\n",
        "            self.F(l,d)\n",
        "            self.F(l,d0)\n",
        "        return d\n",
        "    # 亀を前進させる\n",
        "    def F(self,l, direction):\n",
        "        x = l[-1][0]; y = l[-1][1]\n",
        "        if direction == 0:\n",
        "            l.append([x+1, y  ])\n",
        "        elif direction == 1:\n",
        "            l.append([x  , y+1])\n",
        "        elif direction == 2:\n",
        "            l.append([x-1, y  ])\n",
        "        elif direction == 3:\n",
        "            l.append([x  , y-1])\n",
        "        else:\n",
        "            print(\"F:error\")\n",
        "\n",
        "    # 生成された文字列にしたがって亀を移動させる\n",
        "    def move(self,l,c,direction):\n",
        "        for i in range(self.prm1):\n",
        "            self.F(l,direction)\n",
        "        if c == 'L':\n",
        "            retv = self.L(l,direction)\n",
        "        elif c == 'R':\n",
        "            retv = self.R(l,direction)\n",
        "        else:\n",
        "            print('move:error')\n",
        "        return retv\n",
        "\n",
        "    # 点の座標の生成\n",
        "    def gen_points(self, n):\n",
        "        s = self.gen_str(n)\n",
        "        l = [[0,0]]\n",
        "        d = 0\n",
        "        for c in s:\n",
        "            d = self.move(l,c,d)\n",
        "        for i in range(self.prm1):\n",
        "            self.F(l,d)\n",
        "        n_points = len(l)\n",
        "        x = np.zeros((n_points,2),dtype=int)\n",
        "        for i in range(n_points):\n",
        "            x[i][0] = l[i][0]\n",
        "            x[i][1] = l[i][1]\n",
        "\n",
        "        self.min_x = min(x[:,0])\n",
        "        self.min_y = min(x[:,1])\n",
        "        self.max_x = max(x[:,0])\n",
        "        self.max_y = max(x[:,1])\n",
        "\n",
        "        self.width = self.max_x - self.min_x+1\n",
        "        self.height = self.max_y - self.min_y+1\n",
        "        return x\n",
        "\n",
        "    def set_head(self, x, y):\n",
        "        self.points[:,0] += x\n",
        "        self.points[:,1] += y\n",
        "        self.max_x += x\n",
        "        self.min_x += x\n",
        "        self.max_y += y\n",
        "        self.min_y += y\n"
      ]
    },
    {
      "cell_type": "code",
      "execution_count": 25,
      "id": "2cfdbdb3",
      "metadata": {
        "id": "2cfdbdb3"
      },
      "outputs": [],
      "source": [
        "def zoom (img, min_size=500):\n",
        "    x, y, ncol = img.shape\n",
        "    m = min(x,y)\n",
        "    if m < min_size :\n",
        "        retv = zoom_in(img, min_size//m + 1)\n",
        "    else :\n",
        "        retv = img\n",
        "    return retv"
      ]
    },
    {
      "cell_type": "code",
      "execution_count": 26,
      "id": "21143c3e",
      "metadata": {
        "id": "21143c3e"
      },
      "outputs": [],
      "source": [
        "def zoom_in (img, n):\n",
        "    s1, s2, ncol = img.shape\n",
        "    retv = np.zeros((s1*n,s2*n,ncol), dtype=np.uint8)\n",
        "    block = np.ones((n,n))\n",
        "    for i in range(s1):\n",
        "        for j in range(s2):\n",
        "            for k in range(ncol):\n",
        "                retv[i*n:(i+1)*n, j*n:(j+1)*n,k] = img[i][j][k] * block\n",
        "    return retv"
      ]
    },
    {
      "cell_type": "code",
      "execution_count": 27,
      "id": "8d85706e",
      "metadata": {
        "id": "8d85706e"
      },
      "outputs": [],
      "source": [
        "img_count = 0 # 画像の枚数"
      ]
    },
    {
      "cell_type": "code",
      "execution_count": 28,
      "id": "d48d5496",
      "metadata": {
        "colab": {
          "base_uri": "https://localhost:8080/"
        },
        "id": "d48d5496",
        "outputId": "28df3055-e9b1-4375-94fb-432783e1b7d8"
      },
      "outputs": [
        {
          "output_type": "stream",
          "name": "stdout",
          "text": [
            "0 (9, 9, 3)\n",
            "1 (11, 19, 3)\n",
            "2 (31, 21, 3)\n",
            "3 (51, 31, 3)\n",
            "4 (61, 71, 3)\n",
            "5 (71, 111, 3)\n",
            "6 (151, 121, 3)\n",
            "7 (231, 151, 3)\n",
            "8 (261, 311, 3)\n",
            "9 (311, 471, 3)\n",
            "10 (631, 521, 3)\n",
            "11 (951, 631, 3)\n",
            "12 (1061, 1271, 3)\n",
            "13 (1271, 1911, 3)\n"
          ]
        }
      ],
      "source": [
        "for n in range (14):\n",
        "    dragon = dragon_curve(n,6,2)\n",
        "\n",
        "    im = np.ones((dragon.width,dragon.height,3), dtype=np.uint8)\n",
        "    im[:,:,0] = 35\n",
        "    im[:,:,1] = 59\n",
        "    im[:,:,2] = 108\n",
        "    dragon.set_head(-dragon.min_x, -dragon.min_y)\n",
        "    print(n, im.shape)\n",
        "    for pt in dragon.points:\n",
        "        im[pt[0],pt[1],0] = 224\n",
        "        im[pt[0],pt[1],1] = 255\n",
        "        im[pt[0],pt[1],2] = 255\n",
        "\n",
        "    im = zoom(im)\n",
        "\n",
        "    img_count += 1\n",
        "    plt.imsave('no+e_photo_gallery_030_'+str(img_count).zfill(3)+'.png', im)\n"
      ]
    },
    {
      "cell_type": "code",
      "execution_count": 29,
      "id": "d3728f82",
      "metadata": {
        "colab": {
          "base_uri": "https://localhost:8080/"
        },
        "id": "d3728f82",
        "outputId": "b6bd3876-85e1-45e2-86c9-30db880a7134"
      },
      "outputs": [
        {
          "output_type": "stream",
          "name": "stdout",
          "text": [
            "(1273, 2432, 3)\n"
          ]
        }
      ],
      "source": [
        "h0, w0, ncol = im.shape\n",
        "\n",
        "r = 19\n",
        "w = 128 * r; h = 67 * r\n",
        "im2 = np.ones((h,w,3), dtype=np.uint8)\n",
        "im2[:,:,0] = 35\n",
        "im2[:,:,1] = 59\n",
        "im2[:,:,2] = 108\n",
        "print(im2.shape)\n",
        "im2[1:(1+h0), (w-w0)//2 : ((w-w0)//2+w0), :] = im\n",
        "\n",
        "img_count += 1\n",
        "plt.imsave('no+e_photo_gallery_030_'+str(img_count).zfill(3)+'.png', im2)\n",
        "#plt.imsave('draft.png', im2)\n"
      ]
    },
    {
      "cell_type": "code",
      "execution_count": 30,
      "id": "43a51b6d",
      "metadata": {
        "colab": {
          "base_uri": "https://localhost:8080/"
        },
        "id": "43a51b6d",
        "outputId": "be8f9cba-20bf-4f5e-fa07-534a82771ce5"
      },
      "outputs": [
        {
          "output_type": "stream",
          "name": "stdout",
          "text": [
            "1 (39, 39, 3)\n",
            "2 (47, 47, 3)\n",
            "3 (87, 87, 3)\n",
            "4 (107, 107, 3)\n",
            "5 (183, 183, 3)\n",
            "6 (203, 203, 3)\n",
            "7 (359, 359, 3)\n",
            "8 (423, 423, 3)\n",
            "9 (743, 743, 3)\n",
            "10 (847, 847, 3)\n",
            "11 (1487, 1487, 3)\n",
            "12 (1707, 1707, 3)\n"
          ]
        }
      ],
      "source": [
        "for n in range (1,13):\n",
        "    dragon = dragon_curve(n,6,2)\n",
        "    M = max([dragon.max_x,dragon.max_y,-dragon.min_x, -dragon.min_y])\n",
        "\n",
        "    X = M; Y = M\n",
        "    im = np.zeros((2*M+3,2*M+3, 3), dtype=np.uint8)\n",
        "    im[:,:,0] = 35\n",
        "    im[:,:,1] = 59\n",
        "    im[:,:,2] = 108\n",
        "    print(n, im.shape)\n",
        "    for pt in dragon.points:\n",
        "        im[X+2+pt[0], Y+pt[1],0] = 10\n",
        "        im[X+2+pt[0], Y+pt[1],1] = 10\n",
        "        im[X+2+pt[0], Y+pt[1],2] = 10\n",
        "\n",
        "        im[X-2-pt[0], Y-pt[1],0] = 10\n",
        "        im[X-2-pt[0], Y-pt[1],1] = 10\n",
        "        im[X-2-pt[0], Y-pt[1],2] = 10\n",
        "\n",
        "        im[X-pt[1], Y+2+pt[0],0] = 224\n",
        "        im[X-pt[1], Y+2+pt[0],1] = 255\n",
        "        im[X-pt[1], Y+2+pt[0],2] = 255\n",
        "\n",
        "        im[X+pt[1], Y-2-pt[0],0] = 224\n",
        "        im[X+pt[1], Y-2-pt[0],1] = 255\n",
        "        im[X+pt[1], Y-2-pt[0],2] = 255\n",
        "\n",
        "    im = zoom(im)\n",
        "\n",
        "    img_count += 1\n",
        "    plt.imsave('no+e_photo_gallery_030_'+str(img_count).zfill(3)+'.png', im)\n"
      ]
    },
    {
      "cell_type": "code",
      "execution_count": 31,
      "id": "a7f67147",
      "metadata": {
        "id": "a7f67147"
      },
      "outputs": [],
      "source": [
        "w0 = 1280; h0 = 670\n",
        "h ,w, ncol = im.shape\n",
        "w_offset = (w-w0)//2\n",
        "h_offset = (h-h0)//2\n",
        "im2 = im[h_offset:h_offset+h0, w_offset:w_offset+w0, :]\n",
        "\n",
        "img_count += 1\n",
        "plt.imsave('no+e_photo_gallery_030_'+str(img_count).zfill(3)+'.png', im2)\n",
        "#plt.imsave('draft.png', im2)\n"
      ]
    },
    {
      "cell_type": "code",
      "execution_count": 32,
      "id": "8a0f3b59",
      "metadata": {
        "scrolled": true,
        "colab": {
          "base_uri": "https://localhost:8080/"
        },
        "id": "8a0f3b59",
        "outputId": "1015b518-8c6c-4439-a33e-b8615c16d265"
      },
      "outputs": [
        {
          "output_type": "stream",
          "name": "stdout",
          "text": [
            "(1005, 1920, 3)\n"
          ]
        }
      ],
      "source": [
        "n = 9\n",
        "dragon = dragon_curve(n,6,2)\n",
        "\n",
        "im = np.ones((dragon.width,dragon.height,3), dtype=np.uint8)\n",
        "im[:,:,0] = 35\n",
        "im[:,:,1] = 59\n",
        "im[:,:,2] = 108\n",
        "dragon.set_head(-dragon.min_x, -dragon.min_y)\n",
        "\n",
        "for pt in dragon.points:\n",
        "    im[pt[0],pt[1],0] = 224\n",
        "    im[pt[0],pt[1],1] = 255\n",
        "    im[pt[0],pt[1],2] = 255\n",
        "\n",
        "im = zoom_in(im, 3)\n",
        "\n",
        "h0, w0, ncol = im.shape\n",
        "\n",
        "r = 15\n",
        "w = 128 * r; h = 67 * r\n",
        "im2 = np.ones((h,w,3), dtype=np.uint8)\n",
        "im2[:,:,0] = 35\n",
        "im2[:,:,1] = 59\n",
        "im2[:,:,2] = 108\n",
        "print(im2.shape)\n",
        "im2[(h-h0)//2:((h-h0)//2+h0), (w-w0)//2 : ((w-w0)//2+w0), :] = im\n",
        "\n",
        "img_count += 1\n",
        "plt.imsave('no+e_photo_gallery_030_'+str(img_count).zfill(3)+'.png', im2)\n",
        "#plt.imsave('draft.png', im2)\n"
      ]
    },
    {
      "cell_type": "code",
      "execution_count": 33,
      "id": "c5132201",
      "metadata": {
        "colab": {
          "base_uri": "https://localhost:8080/"
        },
        "id": "c5132201",
        "outputId": "5202adb3-f5eb-444b-b77c-df748544ac38"
      },
      "outputs": [
        {
          "output_type": "stream",
          "name": "stdout",
          "text": [
            "(670, 1280, 3)\n"
          ]
        }
      ],
      "source": [
        "n = 6\n",
        "dragon = dragon_curve(n,6,2)\n",
        "M = max([dragon.max_x,dragon.max_y,-dragon.min_x, -dragon.min_y])\n",
        "\n",
        "X = M; Y = M\n",
        "im = np.zeros((2*M+3,2*M+3, 3), dtype=np.uint8)\n",
        "im[:,:,0] = 35\n",
        "im[:,:,1] = 59\n",
        "im[:,:,2] = 108\n",
        "for pt in dragon.points:\n",
        "    im[X+2+pt[0], Y+pt[1],0] = 10\n",
        "    im[X+2+pt[0], Y+pt[1],1] = 10\n",
        "    im[X+2+pt[0], Y+pt[1],2] = 10\n",
        "\n",
        "    im[X-2-pt[0], Y-pt[1],0] = 10\n",
        "    im[X-2-pt[0], Y-pt[1],1] = 10\n",
        "    im[X-2-pt[0], Y-pt[1],2] = 10\n",
        "\n",
        "    im[X-pt[1], Y+2+pt[0],0] = 224\n",
        "    im[X-pt[1], Y+2+pt[0],1] = 255\n",
        "    im[X-pt[1], Y+2+pt[0],2] = 255\n",
        "\n",
        "    im[X+pt[1], Y-2-pt[0],0] = 224\n",
        "    im[X+pt[1], Y-2-pt[0],1] = 255\n",
        "    im[X+pt[1], Y-2-pt[0],2] = 255\n",
        "\n",
        "im = zoom_in(im, 3)\n",
        "\n",
        "h0, w0, ncol = im.shape\n",
        "\n",
        "r = 10\n",
        "w = 128 * r; h = 67 * r\n",
        "im2 = np.ones((h,w,3), dtype=np.uint8)\n",
        "im2[:,:,0] = 35\n",
        "im2[:,:,1] = 59\n",
        "im2[:,:,2] = 108\n",
        "print(im2.shape)\n",
        "im2[(h-h0)//2:((h-h0)//2+h0), (w-w0)//2 : ((w-w0)//2+w0), :] = im\n",
        "\n",
        "img_count += 1\n",
        "plt.imsave('no+e_photo_gallery_030_'+str(img_count).zfill(3)+'.png', im2)\n",
        "\n"
      ]
    }
  ],
  "metadata": {
    "kernelspec": {
      "display_name": "Python 3 (ipykernel)",
      "language": "python",
      "name": "python3"
    },
    "language_info": {
      "codemirror_mode": {
        "name": "ipython",
        "version": 3
      },
      "file_extension": ".py",
      "mimetype": "text/x-python",
      "name": "python",
      "nbconvert_exporter": "python",
      "pygments_lexer": "ipython3",
      "version": "3.8.12"
    },
    "colab": {
      "provenance": [],
      "include_colab_link": true
    }
  },
  "nbformat": 4,
  "nbformat_minor": 5
}