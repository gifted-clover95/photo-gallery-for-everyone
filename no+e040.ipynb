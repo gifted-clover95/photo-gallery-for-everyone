{
  "cells": [
    {
      "cell_type": "markdown",
      "metadata": {
        "id": "view-in-github",
        "colab_type": "text"
      },
      "source": [
        "<a href=\"https://colab.research.google.com/github/gifted-clover95/photo-gallery-for-everyone/blob/main/no%2Be040.ipynb\" target=\"_parent\"><img src=\"https://colab.research.google.com/assets/colab-badge.svg\" alt=\"Open In Colab\"/></a>"
      ]
    },
    {
      "cell_type": "code",
      "execution_count": 1,
      "id": "148df787",
      "metadata": {
        "id": "148df787"
      },
      "outputs": [],
      "source": [
        "import matplotlib.pyplot as plt\n",
        "import numpy as np\n",
        "import math"
      ]
    },
    {
      "cell_type": "code",
      "execution_count": 2,
      "id": "2079ee98",
      "metadata": {
        "id": "2079ee98"
      },
      "outputs": [],
      "source": [
        "class photo_gallery_for_everyone :\n",
        "    def __init__(self, file_name):\n",
        "        self.file_name = file_name\n",
        "        self.count = 0\n",
        "        self.height = 670\n",
        "        self.width = 1280\n",
        "        self.img = np.ones((self.height, self.width, 3), dtype=np.uint8) * 255\n",
        "        self.origin = (self.height, self.width)\n",
        "        self.scale = 1.0\n",
        "\n",
        "    def set_origin_center(self):\n",
        "        self.origin = (self.height//2, self.width//2)\n",
        "\n",
        "    def show(self,im = 0):\n",
        "        if type(im) != np.ndarray:\n",
        "            im = self.img\n",
        "        plt.imshow(im)\n",
        "        #plt.show()\n",
        "        self.count += 1\n",
        "        plt.imsave(self.file_name + str(self.count).zfill(3) + '.png', im)"
      ]
    },
    {
      "cell_type": "code",
      "execution_count": 3,
      "id": "a08049ca",
      "metadata": {
        "id": "a08049ca"
      },
      "outputs": [],
      "source": [
        "pg = photo_gallery_for_everyone('no+e_photo_gallery_040_')"
      ]
    },
    {
      "cell_type": "code",
      "execution_count": 4,
      "id": "b81c1279",
      "metadata": {
        "id": "b81c1279"
      },
      "outputs": [],
      "source": [
        "def line (img, p1, p2, q1, q2, color=(0,0,0)):\n",
        "    x1 = p1 + 0.5; x2 = q1 + 0.5\n",
        "    y1 = p2 + 0.5; y2 = q2 + 0.5\n",
        "    h = abs(q1-p1); w = abs(q2-p2)\n",
        "    M = max(h,w)+1\n",
        "    eps = 1.0/M\n",
        "    for t in np.linspace(0,1, M ):\n",
        "        x = int(t*x1+(1-t)*x2)\n",
        "        y = int(t*y1+(1-t)*y2)\n",
        "        img[x, y, 0] =  color[0]\n",
        "        img[x, y, 1] =  color[1]\n",
        "        img[x, y, 2] =  color[2]"
      ]
    },
    {
      "cell_type": "code",
      "execution_count": 5,
      "id": "cec85c2d",
      "metadata": {
        "id": "cec85c2d"
      },
      "outputs": [],
      "source": [
        "def adjust_size (P, photo_gallery, eps=10):\n",
        "    h = P[:,:,0].max() - P[:,:,0].min()\n",
        "    w = P[:,:,1].max() - P[:,:,1].min()\n",
        "    R = min( (photo_gallery.height-eps) / h, (photo_gallery.width-eps)/ w)\n",
        "    P = R * P; h = R * h; w = R * w\n",
        "\n",
        "    x = 0.5 * (photo_gallery.height-h) - P[:,:,0].min()\n",
        "    y = 0.5 * (photo_gallery.width-w) - P[:,:,1].min()\n",
        "    P = P + np.array([x,y])\n",
        "    return P"
      ]
    },
    {
      "cell_type": "code",
      "execution_count": 6,
      "id": "637b60d5",
      "metadata": {
        "id": "637b60d5"
      },
      "outputs": [],
      "source": [
        "def get_t0 (n1, m1, n2, m2):\n",
        "    d1 = math.gcd(n1,m1)\n",
        "    d2 = math.gcd(n1*n2, m1*m2)\n",
        "    n3 = n1 // d1; m3 = (n1*n2)//d2\n",
        "    d3 = math.gcd(n3, m3)\n",
        "    return (n3*m3)//d3"
      ]
    },
    {
      "cell_type": "code",
      "execution_count": 7,
      "id": "fce5e8be",
      "metadata": {
        "id": "fce5e8be"
      },
      "outputs": [],
      "source": [
        "def wild_gear (n1, m1, n2, m2, r3, r4, r5):\n",
        "    r1 = n1 / m1\n",
        "    r2 = n2 / m2\n",
        "    a = 1 - r1 * (1 - r3 * r4 * (1 - r2))\n",
        "    b = r1 * (1 - r3)\n",
        "    c = r1 * r2 * r3 * r4 * r5\n",
        "\n",
        "    t0 = 0; t1 = 2 * get_t0(n1,m1,n2,m2) * np.pi\n",
        "    t = np.linspace(t0,t1, int(t1) * 10)\n",
        "    n = len(t)\n",
        "    P = np.zeros((1, n, 2))\n",
        "\n",
        "    P[0,:,0] = a * np.cos(t) + b * np.cos((1-1/r1)*t) + c * np.cos((1-1/(r1*r2))*t)\n",
        "    P[0,:,1] = a * np.sin(t) + b * np.sin((1-1/r1)*t) + c * np.sin((1-1/(r1*r2))*t)\n",
        "    P = adjust_size (P, pg, eps= 100)\n",
        "\n",
        "    pg.img[:,:,:] = 255\n",
        "    for i in range(n):\n",
        "        line(pg.img,\n",
        "             round(P[0][i-1][0]), round(P[0][i-1][1]),\n",
        "             round(P[0][i][0]),round(P[0][i][1]), (0,0,0))\n",
        "\n",
        "    pg.show()"
      ]
    },
    {
      "cell_type": "code",
      "execution_count": 8,
      "id": "413c0811",
      "metadata": {
        "id": "413c0811"
      },
      "outputs": [],
      "source": [
        "def wild_gear2 (n1, m1, n2, m2, r3, r4) :\n",
        "    r1 = n1 / m1\n",
        "    r2 = n2 / m2\n",
        "    a = 1 - r1 * (1 - r3 * r4 * (1 - r2))\n",
        "    b = r1 * (1 - r3)\n",
        "\n",
        "    n_r5 = 11\n",
        "    t0 = 0; t1 = 2 * get_t0(n1,m1,n2,m2) * np.pi\n",
        "    t = np.linspace(t0,t1, int(t1) * 10)\n",
        "    n = len(t)\n",
        "    P = np.zeros((n_r5, n, 2))\n",
        "\n",
        "    k = 0\n",
        "    for r5 in np.linspace(0,1,n_r5):\n",
        "        c = r1 * r2 * r3 * r4 * r5\n",
        "        P[k,:,0] = a * np.cos(t) + b * np.cos((1-1/r1)*t) + c * np.cos((1-1/(r1*r2))*t)\n",
        "        P[k,:,1] = a * np.sin(t) + b * np.sin((1-1/r1)*t) + c * np.sin((1-1/(r1*r2))*t)\n",
        "        k += 1\n",
        "\n",
        "    P = adjust_size (P, pg, eps= 100)\n",
        "\n",
        "    pg.img[:,:,:] = 255\n",
        "    for k in range(n_r5):\n",
        "        for i in range(n):\n",
        "            line(pg.img,\n",
        "                 round(P[k][i-1][0]), round(P[k][i-1][1]),\n",
        "                 round(P[k][i][0]),round(P[k][i][1]), (0,0,0))\n",
        "\n",
        "    pg.show()"
      ]
    },
    {
      "cell_type": "code",
      "execution_count": 9,
      "id": "cde63450",
      "metadata": {
        "colab": {
          "base_uri": "https://localhost:8080/",
          "height": 881
        },
        "id": "cde63450",
        "outputId": "feac79b1-759a-4611-eb23-fcb4d2a84bd2"
      },
      "outputs": [
        {
          "output_type": "stream",
          "name": "stdout",
          "text": [
            "1 35 5 6 7 8\n",
            "2 25 5 6 10 11\n",
            "3 35 5 6 14 15\n",
            "4 25 5 6 15 16\n",
            "5 40 5 6 16 17\n",
            "6 36 6 7 6 7\n",
            "7 48 6 7 8 9\n",
            "8 21 7 8 6 7\n",
            "9 49 7 8 7 8\n",
            "10 35 7 8 10 11\n",
            "11 21 7 8 12 13\n",
            "12 49 7 8 14 15\n",
            "13 35 7 8 20 21\n",
            "14 32 8 9 12 13\n",
            "15 40 8 9 15 16\n",
            "16 27 9 10 6 7\n",
            "17 36 9 10 8 9\n",
            "18 27 9 10 15 16\n",
            "19 22 11 12 8 9\n",
            "20 33 11 12 9 10\n",
            "21 44 11 12 16 17\n",
            "22 33 11 12 18 19\n",
            "23 39 13 14 6 7\n",
            "24 28 14 15 6 7\n",
            "25 42 14 15 9 10\n",
            "26 28 14 15 10 11\n",
            "27 45 15 16 6 7\n",
            "28 45 15 16 12 13\n",
            "29 34 17 18 12 13\n",
            "30 38 19 20 8 9\n",
            "31 40 20 21 6 7\n",
            "32 40 20 21 14 15\n"
          ]
        },
        {
          "output_type": "display_data",
          "data": {
            "text/plain": [
              "<Figure size 640x480 with 1 Axes>"
            ],
            "image/png": "[encoded data removed]"
          },
          "metadata": {}
        }
      ],
      "source": [
        "count = 0\n",
        "for i in range(5,21):\n",
        "    for j in range(6,21):\n",
        "        c = get_t0(i, i+1, j, j+1)\n",
        "        if 20 < c and c < 50 and count < 40:\n",
        "            wild_gear(i, i+1, j, j+1, 0.5, 0.5, 1.0)\n",
        "            count += 1\n",
        "            print(count, c, i,i+1, j,j+1)"
      ]
    }
  ],
  "metadata": {
    "kernelspec": {
      "display_name": "Python 3 (ipykernel)",
      "language": "python",
      "name": "python3"
    },
    "language_info": {
      "codemirror_mode": {
        "name": "ipython",
        "version": 3
      },
      "file_extension": ".py",
      "mimetype": "text/x-python",
      "name": "python",
      "nbconvert_exporter": "python",
      "pygments_lexer": "ipython3",
      "version": "3.8.12"
    },
    "colab": {
      "provenance": [],
      "include_colab_link": true
    }
  },
  "nbformat": 4,
  "nbformat_minor": 5
}